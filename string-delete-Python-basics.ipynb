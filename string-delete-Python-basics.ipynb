{
  "nbformat": 4,
  "nbformat_minor": 0,
  "metadata": {
    "colab": {
      "name": "Assignment-2-Nikhil.ipynb",
      "provenance": [],
      "collapsed_sections": []
    },
    "kernelspec": {
      "name": "python3",
      "display_name": "Python 3"
    }
  },
  "cells": [
    {
      "cell_type": "markdown",
      "metadata": {
        "id": "cpihqfQxl8jp",
        "colab_type": "text"
      },
      "source": [
        "What type (int, string, etc) of object is variable a pointing at at the end of the code? Why is this possibe?"
      ]
    },
    {
      "cell_type": "markdown",
      "metadata": {
        "id": "YVP6Dx_nmF3g",
        "colab_type": "text"
      },
      "source": [
        "you can delete a variable from the memory using the del keyword followed by the variable name\n",
        "as an example del a will delete variable a from the memory"
      ]
    },
    {
      "cell_type": "code",
      "metadata": {
        "id": "xhccFS_EmHRr",
        "colab_type": "code",
        "colab": {}
      },
      "source": [
        "a = 54\n",
        "a='test'\n",
        "a=5.4"
      ],
      "execution_count": null,
      "outputs": []
    },
    {
      "cell_type": "code",
      "metadata": {
        "id": "-HozaUkfmZ_A",
        "colab_type": "code",
        "colab": {
          "base_uri": "https://localhost:8080/",
          "height": 34
        },
        "outputId": "1e50dd1f-f889-42ff-aee7-257ce0e932d2"
      },
      "source": [
        "type(a)"
      ],
      "execution_count": null,
      "outputs": [
        {
          "output_type": "execute_result",
          "data": {
            "text/plain": [
              "float"
            ]
          },
          "metadata": {
            "tags": []
          },
          "execution_count": 2
        }
      ]
    },
    {
      "cell_type": "code",
      "metadata": {
        "id": "w1ILEJ2fmcyN",
        "colab_type": "code",
        "colab": {}
      },
      "source": [
        "##the variable \"a\" is pointing towards Float data type at the end, this is possible beacuse the last value that we have passed to the variable is the Float value."
      ],
      "execution_count": null,
      "outputs": []
    },
    {
      "cell_type": "markdown",
      "metadata": {
        "id": "xsNidd_RnESR",
        "colab_type": "text"
      },
      "source": [
        "What is the fewest number of variables I need to delete to free up memory?"
      ]
    },
    {
      "cell_type": "code",
      "metadata": {
        "id": "YRJAN1nwm4jp",
        "colab_type": "code",
        "colab": {}
      },
      "source": [
        "a=b=4"
      ],
      "execution_count": null,
      "outputs": []
    },
    {
      "cell_type": "markdown",
      "metadata": {
        "id": "tzXtJB1znDB0",
        "colab_type": "text"
      },
      "source": [
        "The fewest variable we can delete is can be a or b, because a is equal to b which is equal to 4. so as a is aslo holding 4 and b is also. we can delete any of them"
      ]
    },
    {
      "cell_type": "code",
      "metadata": {
        "id": "IhqTnQXOntmO",
        "colab_type": "code",
        "colab": {}
      },
      "source": [
        "del b"
      ],
      "execution_count": null,
      "outputs": []
    },
    {
      "cell_type": "code",
      "metadata": {
        "id": "LMhdgiDPnvW0",
        "colab_type": "code",
        "colab": {
          "base_uri": "https://localhost:8080/",
          "height": 34
        },
        "outputId": "9f546ec6-3210-43ca-c264-96ab0dc3a9a4"
      },
      "source": [
        "a"
      ],
      "execution_count": null,
      "outputs": [
        {
          "output_type": "execute_result",
          "data": {
            "text/plain": [
              "4"
            ]
          },
          "metadata": {
            "tags": []
          },
          "execution_count": 6
        }
      ]
    },
    {
      "cell_type": "markdown",
      "metadata": {
        "id": "ddBl0WEQn1bW",
        "colab_type": "text"
      },
      "source": [
        "In your own words, why b is not equal to 'string'"
      ]
    },
    {
      "cell_type": "code",
      "metadata": {
        "id": "acUZNQU4nwwb",
        "colab_type": "code",
        "colab": {
          "base_uri": "https://localhost:8080/",
          "height": 34
        },
        "outputId": "a4e02f86-5a56-4b58-c27b-7250e69353c7"
      },
      "source": [
        "a = 'test'\n",
        "b = a\n",
        "\n",
        "a = 'string'\n",
        "\n",
        "print(b)"
      ],
      "execution_count": null,
      "outputs": [
        {
          "output_type": "stream",
          "text": [
            "string\n"
          ],
          "name": "stdout"
        }
      ]
    },
    {
      "cell_type": "markdown",
      "metadata": {
        "id": "guOpTrehoEZU",
        "colab_type": "text"
      },
      "source": [
        "Because the variable a is holding a value which is 'test' and passed to b.\n",
        "the value passed to b first by a is test, and string is passed after that.\n",
        "So, if we change the position of b and put it after a = string statement. then it will print string."
      ]
    },
    {
      "cell_type": "code",
      "metadata": {
        "id": "8lYIIOlWo5Ew",
        "colab_type": "code",
        "colab": {
          "base_uri": "https://localhost:8080/",
          "height": 34
        },
        "outputId": "25d21786-d0da-4c03-8e67-07ab8839c7d2"
      },
      "source": [
        "a = 'test'\n",
        "\n",
        "\n",
        "a = 'string'\n",
        "b = a\n",
        "print(b)"
      ],
      "execution_count": null,
      "outputs": [
        {
          "output_type": "stream",
          "text": [
            "string\n"
          ],
          "name": "stdout"
        }
      ]
    },
    {
      "cell_type": "code",
      "metadata": {
        "id": "SbIGRa9Po7EA",
        "colab_type": "code",
        "colab": {}
      },
      "source": [
        ""
      ],
      "execution_count": null,
      "outputs": []
    }
  ]
}