{
  "nbformat": 4,
  "nbformat_minor": 0,
  "metadata": {
    "colab": {
      "name": "Assignment-5_Statements in Python_Nikhil.ipynb",
      "provenance": [],
      "collapsed_sections": []
    },
    "kernelspec": {
      "name": "python3",
      "display_name": "Python 3"
    }
  },
  "cells": [
    {
      "cell_type": "markdown",
      "metadata": {
        "id": "77AXksqm43Ht",
        "colab_type": "text"
      },
      "source": [
        "In one line assign both a and b to 17"
      ]
    },
    {
      "cell_type": "code",
      "metadata": {
        "id": "yqWU85sY4fj7",
        "colab_type": "code",
        "colab": {}
      },
      "source": [
        "a=b=17"
      ],
      "execution_count": null,
      "outputs": []
    },
    {
      "cell_type": "markdown",
      "metadata": {
        "id": "rCAe5hfm48lL",
        "colab_type": "text"
      },
      "source": [
        "In one line assign each character in the string to a different variable. Print all the variables (need not be on a single line)."
      ]
    },
    {
      "cell_type": "code",
      "metadata": {
        "id": "3QGJeuaj46Lf",
        "colab_type": "code",
        "colab": {
          "base_uri": "https://localhost:8080/",
          "height": 34
        },
        "outputId": "e6dd251b-23c7-49e5-d408-a4ad895aab56"
      },
      "source": [
        "a,b,c,d = 'N','I','K','H'\n",
        "\n",
        "print(a,b,c,d)"
      ],
      "execution_count": null,
      "outputs": [
        {
          "output_type": "stream",
          "text": [
            "N I K H\n"
          ],
          "name": "stdout"
        }
      ]
    },
    {
      "cell_type": "markdown",
      "metadata": {
        "id": "TSqqub3N6XOJ",
        "colab_type": "text"
      },
      "source": [
        "Remove the last item from the list and print it in a single line"
      ]
    },
    {
      "cell_type": "code",
      "metadata": {
        "id": "2OVC3-_x51FS",
        "colab_type": "code",
        "colab": {
          "base_uri": "https://localhost:8080/",
          "height": 34
        },
        "outputId": "d49ef139-5ff6-47d6-fe29-07b8f9bc1162"
      },
      "source": [
        "suits = ['spades', 'diamonds', 'clubs', 'hearts']\n",
        "suits.pop()"
      ],
      "execution_count": null,
      "outputs": [
        {
          "output_type": "execute_result",
          "data": {
            "text/plain": [
              "'hearts'"
            ]
          },
          "metadata": {
            "tags": []
          },
          "execution_count": 5
        }
      ]
    },
    {
      "cell_type": "code",
      "metadata": {
        "id": "4nG8zsqe6GOd",
        "colab_type": "code",
        "colab": {
          "base_uri": "https://localhost:8080/",
          "height": 34
        },
        "outputId": "ea366753-939c-474a-d070-5b557c6e335d"
      },
      "source": [
        "suits"
      ],
      "execution_count": null,
      "outputs": [
        {
          "output_type": "execute_result",
          "data": {
            "text/plain": [
              "['spades', 'diamonds', 'clubs']"
            ]
          },
          "metadata": {
            "tags": []
          },
          "execution_count": 6
        }
      ]
    },
    {
      "cell_type": "markdown",
      "metadata": {
        "id": "maxxQgnG6wOL",
        "colab_type": "text"
      },
      "source": [
        "Add 'king' to the end of the list, then print the full list"
      ]
    },
    {
      "cell_type": "code",
      "metadata": {
        "id": "y6mpK90o6nan",
        "colab_type": "code",
        "colab": {}
      },
      "source": [
        "card_values = ['ace','2','3','4','5','6','7','8','9','10','jack','queen']"
      ],
      "execution_count": null,
      "outputs": []
    },
    {
      "cell_type": "code",
      "metadata": {
        "id": "74Wo2l6r6zwv",
        "colab_type": "code",
        "colab": {}
      },
      "source": [
        "card_values.append('King')"
      ],
      "execution_count": null,
      "outputs": []
    },
    {
      "cell_type": "code",
      "metadata": {
        "id": "q6j3dudK64Tv",
        "colab_type": "code",
        "colab": {
          "base_uri": "https://localhost:8080/",
          "height": 34
        },
        "outputId": "d0ae05ab-4eb7-45f1-d349-a9c4ea0bf748"
      },
      "source": [
        "card_values"
      ],
      "execution_count": null,
      "outputs": [
        {
          "output_type": "execute_result",
          "data": {
            "text/plain": [
              "['ace', '2', '3', '4', '5', '6', '7', '8', '9', '10', 'jack', 'queen', 'King']"
            ]
          },
          "metadata": {
            "tags": []
          },
          "execution_count": 4
        }
      ]
    },
    {
      "cell_type": "markdown",
      "metadata": {
        "id": "KCZSLVjF7DUG",
        "colab_type": "text"
      },
      "source": [
        "Create a series of if statements that will tell me if a given card value from the provided list is greater than, less than, or equal to 7. Treat 'ace' as though it has a value of 1."
      ]
    },
    {
      "cell_type": "markdown",
      "metadata": {
        "id": "aE1nX0U67M7S",
        "colab_type": "text"
      },
      "source": [
        "For example, if you are provided '3', your code should print out: 3 is less than 7\n",
        "\n",
        "If you are provided 'king', your code should print out: king is greater than 7\n",
        "\n",
        "If you are provided a '7', your code should print out: 7 is equal to 7"
      ]
    },
    {
      "cell_type": "code",
      "metadata": {
        "id": "ZFnJaBgb65XB",
        "colab_type": "code",
        "colab": {
          "base_uri": "https://localhost:8080/",
          "height": 123
        },
        "outputId": "8e995c6d-689c-47c4-f2e5-17c7ff130c79"
      },
      "source": [
        "# importing modules\n",
        "import itertools, random\n",
        "\n",
        "# make a deck of cards\n",
        "deck = list(itertools.product(range(1,14),['Spade','Heart','Diamond','Club']))\n",
        "\n",
        "# shuffle the cards\n",
        "random.shuffle(deck)\n",
        "\n",
        "# draw five cards\n",
        "print(\"You got:\")\n",
        "for i in range(5):\n",
        "   print(deck[i][0], \"of\", deck[i][1])"
      ],
      "execution_count": null,
      "outputs": [
        {
          "output_type": "stream",
          "text": [
            "You got:\n",
            "13 of Club\n",
            "4 of Heart\n",
            "8 of Club\n",
            "3 of Spade\n",
            "7 of Spade\n"
          ],
          "name": "stdout"
        }
      ]
    },
    {
      "cell_type": "code",
      "metadata": {
        "id": "CClYsXN38ZTr",
        "colab_type": "code",
        "colab": {
          "base_uri": "https://localhost:8080/",
          "height": 52
        },
        "outputId": "1ae76002-49af-4a7c-86ef-d6c192303404"
      },
      "source": [
        "x = int(input('enter the card:'))\n",
        "x1 = card_values\n",
        "if (x<7):\n",
        "  print('The card is less than 7')\n",
        "else:\n",
        "  print('7 is equal to 7')"
      ],
      "execution_count": null,
      "outputs": [
        {
          "output_type": "stream",
          "text": [
            "enter the card:7\n",
            "7 is equal to 7\n"
          ],
          "name": "stdout"
        }
      ]
    },
    {
      "cell_type": "code",
      "metadata": {
        "id": "ol7ZYc-79YqJ",
        "colab_type": "code",
        "colab": {
          "base_uri": "https://localhost:8080/",
          "height": 70
        },
        "outputId": "40ffd0a1-e8b2-423f-fec8-fabf9c78d54a"
      },
      "source": [
        "y = str(input('card name :'))\n",
        "\n",
        "if y == 'king' :\n",
        "    print('Card is Greater than 7')\n",
        "\n",
        "if y == 'queen':\n",
        "    print('Card is Greater than 7')\n",
        "\n",
        "if y == 'jack':\n",
        "    print('Card is Greater than 7')\n",
        "\n",
        "else:\n",
        "  print('Card is equal or less than 7')"
      ],
      "execution_count": null,
      "outputs": [
        {
          "output_type": "stream",
          "text": [
            "card name :king\n",
            "Card is Greater than 7\n",
            "Card is equal or less than 7\n"
          ],
          "name": "stdout"
        }
      ]
    },
    {
      "cell_type": "markdown",
      "metadata": {
        "id": "5yKQ6zQGDyjp",
        "colab_type": "text"
      },
      "source": [
        "Given a card value from the provided list, print out its representative number."
      ]
    },
    {
      "cell_type": "markdown",
      "metadata": {
        "id": "bhhVtCxYD23k",
        "colab_type": "text"
      },
      "source": [
        "For example, if you are provided '8' your code should print out: 8 is equal to 8\n",
        "\n",
        "if you are provided 'king' your code should print out: king is equal to 13"
      ]
    },
    {
      "cell_type": "code",
      "metadata": {
        "id": "xsbnGvK__JsV",
        "colab_type": "code",
        "colab": {
          "base_uri": "https://localhost:8080/",
          "height": 52
        },
        "outputId": "c1e49518-45d2-492e-a78a-1ddf40ea9bb7"
      },
      "source": [
        "num = int(input('Enter the card :'))\n",
        "\n",
        "if num < 8:\n",
        "  print('Card is less than 8')\n",
        "else:\n",
        "  print('Card is equal to 8')"
      ],
      "execution_count": null,
      "outputs": [
        {
          "output_type": "stream",
          "text": [
            "Enter the card :6\n",
            "Card is less than 8\n"
          ],
          "name": "stdout"
        }
      ]
    },
    {
      "cell_type": "code",
      "metadata": {
        "id": "FWXjzLprEYWZ",
        "colab_type": "code",
        "colab": {
          "base_uri": "https://localhost:8080/",
          "height": 52
        },
        "outputId": "5ac5ec3c-5f77-4664-d692-92b4e0f5a07a"
      },
      "source": [
        "name = str(input('Enter The Card :'))\n",
        "\n",
        "if name == 'king':\n",
        "  print('Card is Equal to 13')\n",
        "\n",
        "if name == 'queen':\n",
        "  print('Card is Equal to 12')\n",
        "\n",
        "if name == 'jack':\n",
        "  print('Card is Equal to 11')"
      ],
      "execution_count": null,
      "outputs": [
        {
          "output_type": "stream",
          "text": [
            "Enter The Card :jack\n",
            "Card is Equal to 11\n"
          ],
          "name": "stdout"
        }
      ]
    },
    {
      "cell_type": "markdown",
      "metadata": {
        "id": "RFh3JAHrFqIf",
        "colab_type": "text"
      },
      "source": [
        "Loop through the following list of values, adding them as you go. Once the value is greater than 50 print the sum and stop"
      ]
    },
    {
      "cell_type": "code",
      "metadata": {
        "id": "JgitKB5JE3oX",
        "colab_type": "code",
        "colab": {}
      },
      "source": [
        "test_list = [1,3,9,3,18,9,21,19,7,12,15,22,29,65]"
      ],
      "execution_count": null,
      "outputs": []
    },
    {
      "cell_type": "code",
      "metadata": {
        "id": "molFmngvFtLq",
        "colab_type": "code",
        "colab": {
          "base_uri": "https://localhost:8080/",
          "height": 34
        },
        "outputId": "2303dd36-f1b6-437c-c697-6ea561ee4aaa"
      },
      "source": [
        "Sum_num = sum(test_list)\n",
        "if Sum_num < 50:\n",
        "  print('less than 50')\n",
        "  Sum_num=+1\n",
        "else:\n",
        "  print('greater than 50')"
      ],
      "execution_count": null,
      "outputs": [
        {
          "output_type": "stream",
          "text": [
            "greater than 50\n"
          ],
          "name": "stdout"
        }
      ]
    },
    {
      "cell_type": "code",
      "metadata": {
        "id": "lPkl4n2gIMPx",
        "colab_type": "code",
        "colab": {
          "base_uri": "https://localhost:8080/",
          "height": 136
        },
        "outputId": "2b37d2db-834e-49ce-dd13-0eca3cd5c8b6"
      },
      "source": [
        "test_list_new = [1,3,9,3,18,9,21,19,7,12,15,22,29,65]\n",
        "\n",
        "max_num_limit = 50\n",
        "sum = 0 \n",
        "for i in test_list_new:\n",
        "  sum = sum + i\n",
        "  if sum > max_num_limit:\n",
        "    print(\"Exceeded\")\n",
        "    break\n",
        "  print(sum)\n",
        "    \n",
        "\n",
        "    "
      ],
      "execution_count": null,
      "outputs": [
        {
          "output_type": "stream",
          "text": [
            "1\n",
            "4\n",
            "13\n",
            "16\n",
            "34\n",
            "43\n",
            "Exceeded\n"
          ],
          "name": "stdout"
        }
      ]
    },
    {
      "cell_type": "markdown",
      "metadata": {
        "id": "n9WkZQd8VA00",
        "colab_type": "text"
      },
      "source": [
        "Print each element of the list until you reach the value of 12, then stop. Use a while loop."
      ]
    },
    {
      "cell_type": "code",
      "metadata": {
        "id": "ywpNMXZCNzGg",
        "colab_type": "code",
        "colab": {}
      },
      "source": [
        "test_list = [1,3,9,3,18,9,21,19,7,12,15,22,29,65]"
      ],
      "execution_count": null,
      "outputs": []
    },
    {
      "cell_type": "markdown",
      "metadata": {
        "id": "m6RPUYJOpOOV",
        "colab_type": "text"
      },
      "source": [
        "Print each element of the list until you reach the value of 12, then stop. Use a for loop."
      ]
    },
    {
      "cell_type": "code",
      "metadata": {
        "id": "0g18IsfiVD-V",
        "colab_type": "code",
        "colab": {}
      },
      "source": [
        "test_list = [1,3,9,3,18,9,21,19,7,12,15,22,29,65]"
      ],
      "execution_count": null,
      "outputs": []
    },
    {
      "cell_type": "code",
      "metadata": {
        "id": "gAOu-8H0Viwc",
        "colab_type": "code",
        "colab": {
          "base_uri": "https://localhost:8080/",
          "height": 34
        },
        "outputId": "d4524f73-e8aa-4b84-bfee-f8fd9c0fed5a"
      },
      "source": [
        "for i in range(len(test_list)):\n",
        "  if i == 12:\n",
        "    print(i)"
      ],
      "execution_count": null,
      "outputs": [
        {
          "output_type": "stream",
          "text": [
            "12\n"
          ],
          "name": "stdout"
        }
      ]
    },
    {
      "cell_type": "code",
      "metadata": {
        "id": "TX5OPDI5pg0l",
        "colab_type": "code",
        "colab": {
          "base_uri": "https://localhost:8080/",
          "height": 34
        },
        "outputId": "7950526d-9feb-434e-d618-2726b6cbf9a8"
      },
      "source": [
        "def range(test_list_12):\n",
        "\n",
        "  for x in test_list_12:\n",
        "    if x == 12:\n",
        "      x=+1\n",
        "  return x\n",
        "\n",
        "test_list_12 = [1,3,9,3,18,9,21,19,7,12,15,22,29,65]\n",
        "\n",
        "print (test_list_12)\n"
      ],
      "execution_count": null,
      "outputs": [
        {
          "output_type": "stream",
          "text": [
            "[1, 3, 9, 3, 18, 9, 21, 19, 7, 12, 15, 22, 29, 65]\n"
          ],
          "name": "stdout"
        }
      ]
    },
    {
      "cell_type": "code",
      "metadata": {
        "id": "cnvK1JxO3hhB",
        "colab_type": "code",
        "colab": {
          "base_uri": "https://localhost:8080/",
          "height": 123
        },
        "outputId": "c2a6dfcd-1f5a-4508-fdba-b0ccc24e6ffe"
      },
      "source": [
        "for num in test_list_12:\n",
        "  if num < 12:\n",
        "    print(num)"
      ],
      "execution_count": null,
      "outputs": [
        {
          "output_type": "stream",
          "text": [
            "1\n",
            "3\n",
            "9\n",
            "3\n",
            "9\n",
            "7\n"
          ],
          "name": "stdout"
        }
      ]
    },
    {
      "cell_type": "markdown",
      "metadata": {
        "id": "VxJF4Nzj3EBQ",
        "colab_type": "text"
      },
      "source": [
        "Print each element of the list\n",
        "The first few printed lines should be:\n",
        "\n",
        "The element is equal to 1\n",
        "\n",
        "The element is equal to 3\n",
        "\n",
        "The element is equal to 9"
      ]
    },
    {
      "cell_type": "code",
      "metadata": {
        "id": "rp-t6RcSypUf",
        "colab_type": "code",
        "colab": {
          "base_uri": "https://localhost:8080/",
          "height": 265
        },
        "outputId": "349fbb76-c376-416f-be1f-84e8fe09e518"
      },
      "source": [
        "test_list = [1,3,9,3,18,9,21,19,7,12,15,22,29,65]\n",
        "\n",
        "for elemen in test_list:\n",
        "  print(\"The Element is :\", elemen)"
      ],
      "execution_count": null,
      "outputs": [
        {
          "output_type": "stream",
          "text": [
            "The Element is : 1\n",
            "The Element is : 3\n",
            "The Element is : 9\n",
            "The Element is : 3\n",
            "The Element is : 18\n",
            "The Element is : 9\n",
            "The Element is : 21\n",
            "The Element is : 19\n",
            "The Element is : 7\n",
            "The Element is : 12\n",
            "The Element is : 15\n",
            "The Element is : 22\n",
            "The Element is : 29\n",
            "The Element is : 65\n"
          ],
          "name": "stdout"
        }
      ]
    },
    {
      "cell_type": "markdown",
      "metadata": {
        "id": "xn9_nwliIfWm",
        "colab_type": "text"
      },
      "source": [
        "Print each key/value pair from the dictionary\n",
        "The form of each printed line should be:\n",
        "\n",
        "The [team] are from [city or state]\n",
        "\n",
        "for example:\n",
        "\n",
        "The Red Wings are from Detroit"
      ]
    },
    {
      "cell_type": "code",
      "metadata": {
        "id": "z1RRxtq11nBc",
        "colab_type": "code",
        "colab": {}
      },
      "source": [
        "atlantic = {'Boston':'Bruins', 'Buffalo': 'Sabres', 'Detroit': 'Red Wings', \n",
        "            'Florida':'Panthers', 'Montreal':'Canadiens', 'Ottawa':'Senators', \n",
        "            'Tampa Bay': 'Lightning', 'Toronto':'Maple Leafs'}"
      ],
      "execution_count": null,
      "outputs": []
    },
    {
      "cell_type": "code",
      "metadata": {
        "id": "_t2eLPSuJCuw",
        "colab_type": "code",
        "colab": {
          "base_uri": "https://localhost:8080/",
          "height": 158
        },
        "outputId": "cc284171-f31e-4553-9c24-d4024f5019f7"
      },
      "source": [
        "print(\"\\n\".join(\"The {!r} are from {!r},\".format(k, v) for k, v in atlantic.items())) \n",
        "\n",
        "## ref from stack overflow https://stackoverflow.com/questions/20181899/how-to-make-each-key-value-of-a-dictionary-print-on-a-new-line"
      ],
      "execution_count": null,
      "outputs": [
        {
          "output_type": "stream",
          "text": [
            "The 'Boston' are from 'Bruins',\n",
            "The 'Buffalo' are from 'Sabres',\n",
            "The 'Detroit' are from 'Red Wings',\n",
            "The 'Florida' are from 'Panthers',\n",
            "The 'Montreal' are from 'Canadiens',\n",
            "The 'Ottawa' are from 'Senators',\n",
            "The 'Tampa Bay' are from 'Lightning',\n",
            "The 'Toronto' are from 'Maple Leafs',\n"
          ],
          "name": "stdout"
        }
      ]
    },
    {
      "cell_type": "markdown",
      "metadata": {
        "id": "Z9JoGPWqMYma",
        "colab_type": "text"
      },
      "source": [
        "Create a list of every (natural) number from 17 to 129"
      ]
    },
    {
      "cell_type": "code",
      "metadata": {
        "id": "273rrJWzMZuj",
        "colab_type": "code",
        "colab": {
          "base_uri": "https://localhost:8080/",
          "height": 203
        },
        "outputId": "a5578d1a-2cce-484b-ed92-42ca40950f8a"
      },
      "source": [
        "x = range(17, 129)\n",
        "for n in x:\n",
        "  print(list(n))"
      ],
      "execution_count": null,
      "outputs": [
        {
          "output_type": "error",
          "ename": "TypeError",
          "evalue": "ignored",
          "traceback": [
            "\u001b[0;31m---------------------------------------------------------------------------\u001b[0m",
            "\u001b[0;31mTypeError\u001b[0m                                 Traceback (most recent call last)",
            "\u001b[0;32m<ipython-input-112-014fe51cbc26>\u001b[0m in \u001b[0;36m<module>\u001b[0;34m()\u001b[0m\n\u001b[0;32m----> 1\u001b[0;31m \u001b[0mx\u001b[0m \u001b[0;34m=\u001b[0m \u001b[0mrange\u001b[0m\u001b[0;34m(\u001b[0m\u001b[0;36m17\u001b[0m\u001b[0;34m,\u001b[0m \u001b[0;36m129\u001b[0m\u001b[0;34m)\u001b[0m\u001b[0;34m\u001b[0m\u001b[0;34m\u001b[0m\u001b[0m\n\u001b[0m\u001b[1;32m      2\u001b[0m \u001b[0;32mfor\u001b[0m \u001b[0mn\u001b[0m \u001b[0;32min\u001b[0m \u001b[0mx\u001b[0m\u001b[0;34m:\u001b[0m\u001b[0;34m\u001b[0m\u001b[0;34m\u001b[0m\u001b[0m\n\u001b[1;32m      3\u001b[0m   \u001b[0mprint\u001b[0m\u001b[0;34m(\u001b[0m\u001b[0mlist\u001b[0m\u001b[0;34m(\u001b[0m\u001b[0mn\u001b[0m\u001b[0;34m)\u001b[0m\u001b[0;34m)\u001b[0m\u001b[0;34m\u001b[0m\u001b[0;34m\u001b[0m\u001b[0m\n",
            "\u001b[0;31mTypeError\u001b[0m: range() takes 1 positional argument but 2 were given"
          ]
        }
      ]
    },
    {
      "cell_type": "markdown",
      "metadata": {
        "id": "zMVXUu66PJAj",
        "colab_type": "text"
      },
      "source": [
        "Print the lenght of the following list"
      ]
    },
    {
      "cell_type": "code",
      "metadata": {
        "id": "F86wJGCGJHb4",
        "colab_type": "code",
        "colab": {
          "base_uri": "https://localhost:8080/",
          "height": 34
        },
        "outputId": "d1079b91-6324-4831-d6d0-6843bff60feb"
      },
      "source": [
        "test_list = [1,3,9,3,18,9,21,19,7,12,15,22,29,65]\n",
        "len(test_list)"
      ],
      "execution_count": null,
      "outputs": [
        {
          "output_type": "execute_result",
          "data": {
            "text/plain": [
              "14"
            ]
          },
          "metadata": {
            "tags": []
          },
          "execution_count": 114
        }
      ]
    },
    {
      "cell_type": "markdown",
      "metadata": {
        "id": "vSVYoXRrPtiJ",
        "colab_type": "text"
      },
      "source": [
        "Using zip, create a dictionary, named metropolitan, using the values in the location list as the keys and the the teams in the team list as the values"
      ]
    },
    {
      "cell_type": "code",
      "metadata": {
        "id": "LlQqpgrPPue_",
        "colab_type": "code",
        "colab": {}
      },
      "source": [
        "location = ['Carolina', 'Columbus', 'New Jersey', 'New York 1', 'New York 2', 'Philadelphia', 'Pittsburgh', 'Washington']\n",
        "team = ['Hurricanes', 'Blue Jackets', 'Devils', 'Islanders', 'Rangers', 'Flyers', 'Penguins', 'Capitals']"
      ],
      "execution_count": null,
      "outputs": []
    },
    {
      "cell_type": "code",
      "metadata": {
        "id": "yGxP-cFPPMnB",
        "colab_type": "code",
        "colab": {
          "base_uri": "https://localhost:8080/",
          "height": 54
        },
        "outputId": "22de5c19-bffd-4e14-f0c5-8259c825c133"
      },
      "source": [
        "Metropolitan = dict(zip(location, team))\n",
        "print(Metropolitan)"
      ],
      "execution_count": null,
      "outputs": [
        {
          "output_type": "stream",
          "text": [
            "{'Carolina': 'Hurricanes', 'Columbus': 'Blue Jackets', 'New Jersey': 'Devils', 'New York 1': 'Islanders', 'New York 2': 'Rangers', 'Philadelphia': 'Flyers', 'Pittsburgh': 'Penguins', 'Washington': 'Capitals'}\n"
          ],
          "name": "stdout"
        }
      ]
    },
    {
      "cell_type": "markdown",
      "metadata": {
        "id": "RLkLydvAQx97",
        "colab_type": "text"
      },
      "source": [
        "For each element in the list print out its index and its corresponding value\n",
        "Use the format:\n",
        "\n",
        "0: 1\n",
        "\n",
        "1: 3\n",
        "\n",
        "2: 9"
      ]
    },
    {
      "cell_type": "code",
      "metadata": {
        "id": "ET4JDS5lQX4_",
        "colab_type": "code",
        "colab": {}
      },
      "source": [
        "test_list = [1,3,9,3,18,9,21,19,7,12,15,22,29,65]"
      ],
      "execution_count": null,
      "outputs": []
    },
    {
      "cell_type": "code",
      "metadata": {
        "id": "_mp5efSCQ1jJ",
        "colab_type": "code",
        "colab": {
          "base_uri": "https://localhost:8080/",
          "height": 283
        },
        "outputId": "9f91d326-a25e-4c3b-d280-fbaef76ff0db"
      },
      "source": [
        "print(\"list of index values are as follows:\")\n",
        "\n",
        "for index, value in enumerate(test_list): \n",
        "    print(index,':', value)"
      ],
      "execution_count": null,
      "outputs": [
        {
          "output_type": "stream",
          "text": [
            "list of index values are as follows:\n",
            "0 : 1\n",
            "1 : 3\n",
            "2 : 9\n",
            "3 : 3\n",
            "4 : 18\n",
            "5 : 9\n",
            "6 : 21\n",
            "7 : 19\n",
            "8 : 7\n",
            "9 : 12\n",
            "10 : 15\n",
            "11 : 22\n",
            "12 : 29\n",
            "13 : 65\n"
          ],
          "name": "stdout"
        }
      ]
    },
    {
      "cell_type": "markdown",
      "metadata": {
        "id": "SDfmJf4PTey8",
        "colab_type": "text"
      },
      "source": [
        "Create a list of tuples for each card in a deck of cards using the provided lists. Then print out each tuple on its own seperate line.\n",
        "For example, your list should have as elements:\n",
        "\n",
        "('king','clubs')\n",
        "\n",
        "('3', 'diamonds')\n",
        "\n",
        "('ace', 'hearts')"
      ]
    },
    {
      "cell_type": "code",
      "metadata": {
        "id": "utVkpzqTSWaH",
        "colab_type": "code",
        "colab": {}
      },
      "source": [
        "card_values = ['ace','2','3','4','5','6','7','8','9','10','jack','queen','king']\n",
        "suits = ['spades', 'diamonds', 'clubs', 'hearts']"
      ],
      "execution_count": null,
      "outputs": []
    },
    {
      "cell_type": "code",
      "metadata": {
        "id": "GLGC1KC8Szr9",
        "colab_type": "code",
        "colab": {
          "base_uri": "https://localhost:8080/",
          "height": 34
        },
        "outputId": "2bc661f5-4030-47aa-f881-c3c90ff5e854"
      },
      "source": [
        "list_tuples = list(zip(card_values,suits))\n",
        "print(list_tuples)"
      ],
      "execution_count": null,
      "outputs": [
        {
          "output_type": "stream",
          "text": [
            "[('ace', 'spades'), ('2', 'diamonds'), ('3', 'clubs'), ('4', 'hearts')]\n"
          ],
          "name": "stdout"
        }
      ]
    },
    {
      "cell_type": "code",
      "metadata": {
        "id": "1s6b4HEoUFNR",
        "colab_type": "code",
        "colab": {
          "base_uri": "https://localhost:8080/",
          "height": 87
        },
        "outputId": "1262b309-cbd5-4cdc-a861-511b974b9673"
      },
      "source": [
        "#print('\\n'.join(list(zip(card_values, suits))))\n",
        "\n",
        "for i in list_tuples:\n",
        "  print(i)"
      ],
      "execution_count": null,
      "outputs": [
        {
          "output_type": "stream",
          "text": [
            "('ace', 'spades')\n",
            "('2', 'diamonds')\n",
            "('3', 'clubs')\n",
            "('4', 'hearts')\n"
          ],
          "name": "stdout"
        }
      ]
    },
    {
      "cell_type": "code",
      "metadata": {
        "id": "Iph0IgBMUH1z",
        "colab_type": "code",
        "colab": {}
      },
      "source": [
        ""
      ],
      "execution_count": null,
      "outputs": []
    }
  ]
}