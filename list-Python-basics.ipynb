{
  "nbformat": 4,
  "nbformat_minor": 0,
  "metadata": {
    "colab": {
      "name": "Assignment-4_Nikhil.ipynb",
      "provenance": [],
      "collapsed_sections": []
    },
    "kernelspec": {
      "name": "python3",
      "display_name": "Python 3"
    }
  },
  "cells": [
    {
      "cell_type": "markdown",
      "metadata": {
        "id": "H4K3X0BH1TlT",
        "colab_type": "text"
      },
      "source": [
        "Homework 04 - Built in Data Structures"
      ]
    },
    {
      "cell_type": "markdown",
      "metadata": {
        "id": "oR6UDt6E1Xop",
        "colab_type": "text"
      },
      "source": [
        "Create a list containing 4 different types of elements"
      ]
    },
    {
      "cell_type": "code",
      "metadata": {
        "id": "8I0B5A691KiP",
        "colab_type": "code",
        "colab": {}
      },
      "source": [
        "list_1 = [1, 1.2, 'Nikhil', True]"
      ],
      "execution_count": null,
      "outputs": []
    },
    {
      "cell_type": "markdown",
      "metadata": {
        "id": "a-pT9my71wfU",
        "colab_type": "text"
      },
      "source": [
        "Create a list of all the characters in the provided sting"
      ]
    },
    {
      "cell_type": "code",
      "metadata": {
        "id": "j1Sqplfb1hKw",
        "colab_type": "code",
        "colab": {
          "base_uri": "https://localhost:8080/",
          "height": 54
        },
        "outputId": "30b60b89-035d-4fe5-fc4a-20c399851164"
      },
      "source": [
        "string_a = 'Harry Potter and the Prisoner of Azkaban'\n",
        "print(list(string_a))"
      ],
      "execution_count": null,
      "outputs": [
        {
          "output_type": "stream",
          "text": [
            "['H', 'a', 'r', 'r', 'y', ' ', 'P', 'o', 't', 't', 'e', 'r', ' ', 'a', 'n', 'd', ' ', 't', 'h', 'e', ' ', 'P', 'r', 'i', 's', 'o', 'n', 'e', 'r', ' ', 'o', 'f', ' ', 'A', 'z', 'k', 'a', 'b', 'a', 'n']\n"
          ],
          "name": "stdout"
        }
      ]
    },
    {
      "cell_type": "markdown",
      "metadata": {
        "id": "UmIWDR7v2SWO",
        "colab_type": "text"
      },
      "source": [
        "Create a list of 3 lists, each with containting three 1s"
      ]
    },
    {
      "cell_type": "code",
      "metadata": {
        "id": "_rT_IH4K2Fhx",
        "colab_type": "code",
        "colab": {
          "base_uri": "https://localhost:8080/",
          "height": 34
        },
        "outputId": "bf66bc4b-a2a3-453b-d7f8-d47813e20c9a"
      },
      "source": [
        "a = [[1,1,1]]\n",
        "a*3"
      ],
      "execution_count": null,
      "outputs": [
        {
          "output_type": "execute_result",
          "data": {
            "text/plain": [
              "[[1, 1, 1], [1, 1, 1], [1, 1, 1]]"
            ]
          },
          "metadata": {
            "tags": []
          },
          "execution_count": 1
        }
      ]
    },
    {
      "cell_type": "markdown",
      "metadata": {
        "id": "QLzyFC7Y3Hhl",
        "colab_type": "text"
      },
      "source": [
        "What is the first and third elements of the provided list"
      ]
    },
    {
      "cell_type": "code",
      "metadata": {
        "id": "butQDB822wN3",
        "colab_type": "code",
        "colab": {
          "base_uri": "https://localhost:8080/",
          "height": 34
        },
        "outputId": "b497a815-3709-45f4-e5f5-40213d8682a5"
      },
      "source": [
        "houses = ['Gryffindor','Ravenclaw','Hufflepuff','Slytherin']\n",
        "houses[:3]"
      ],
      "execution_count": null,
      "outputs": [
        {
          "output_type": "execute_result",
          "data": {
            "text/plain": [
              "['Gryffindor', 'Ravenclaw', 'Hufflepuff']"
            ]
          },
          "metadata": {
            "tags": []
          },
          "execution_count": 12
        }
      ]
    },
    {
      "cell_type": "markdown",
      "metadata": {
        "id": "IKMJcUvX3jnw",
        "colab_type": "text"
      },
      "source": [
        "Print out a list of the last two elements of the provided list"
      ]
    },
    {
      "cell_type": "code",
      "metadata": {
        "id": "_HVMFKJH3L8d",
        "colab_type": "code",
        "colab": {
          "base_uri": "https://localhost:8080/",
          "height": 34
        },
        "outputId": "21c2e2f1-394f-4a28-8923-891e1bbd5b73"
      },
      "source": [
        "houses = ['Gryffindor','Ravenclaw','Hufflepuff','Slytherin']\n",
        "houses[-2:]"
      ],
      "execution_count": null,
      "outputs": [
        {
          "output_type": "execute_result",
          "data": {
            "text/plain": [
              "['Hufflepuff', 'Slytherin']"
            ]
          },
          "metadata": {
            "tags": []
          },
          "execution_count": 18
        }
      ]
    },
    {
      "cell_type": "markdown",
      "metadata": {
        "id": "y7EwcouO4EHK",
        "colab_type": "text"
      },
      "source": [
        "Print the provided list in reverse order"
      ]
    },
    {
      "cell_type": "code",
      "metadata": {
        "id": "k7Z56jJc3qTv",
        "colab_type": "code",
        "colab": {
          "base_uri": "https://localhost:8080/",
          "height": 34
        },
        "outputId": "6871bc86-1d85-463f-d4e9-483a908268fc"
      },
      "source": [
        "houses = ['Gryffindor','Ravenclaw','Hufflepuff','Slytherin']\n",
        "houses[::-1]\n"
      ],
      "execution_count": null,
      "outputs": [
        {
          "output_type": "execute_result",
          "data": {
            "text/plain": [
              "['Slytherin', 'Hufflepuff', 'Ravenclaw', 'Gryffindor']"
            ]
          },
          "metadata": {
            "tags": []
          },
          "execution_count": 20
        }
      ]
    },
    {
      "cell_type": "markdown",
      "metadata": {
        "id": "U8XT8Wc74QXS",
        "colab_type": "text"
      },
      "source": [
        "What is the length of the provided list"
      ]
    },
    {
      "cell_type": "code",
      "metadata": {
        "id": "iViWsMuY4Ikj",
        "colab_type": "code",
        "colab": {
          "base_uri": "https://localhost:8080/",
          "height": 34
        },
        "outputId": "56ea45cb-44dc-4c5b-cd14-3d74a86c35df"
      },
      "source": [
        "houses = ['Gryffindor','Ravenclaw','Hufflepuff','Slytherin']\n",
        "len(houses)"
      ],
      "execution_count": null,
      "outputs": [
        {
          "output_type": "execute_result",
          "data": {
            "text/plain": [
              "4"
            ]
          },
          "metadata": {
            "tags": []
          },
          "execution_count": 21
        }
      ]
    },
    {
      "cell_type": "markdown",
      "metadata": {
        "id": "NbqI0OZs4Xks",
        "colab_type": "text"
      },
      "source": [
        "Concatenate the following two lists"
      ]
    },
    {
      "cell_type": "code",
      "metadata": {
        "id": "kVQ0I5fv4Ugt",
        "colab_type": "code",
        "colab": {
          "base_uri": "https://localhost:8080/",
          "height": 34
        },
        "outputId": "caf8f662-df9f-4572-b1bc-6a0dca897534"
      },
      "source": [
        "list_a = [2, 3, 5, 7, 11, 13, 17, 19, 23, 29, 31, 37, 41, 43, 47]\n",
        "list_b = [53, 59, 61, 67, 71, 73, 79, 83, 89, 97, 101]\n",
        "\n",
        "list_c = list_a + list_b\n",
        "\n",
        "print(list_c)"
      ],
      "execution_count": null,
      "outputs": [
        {
          "output_type": "stream",
          "text": [
            "[2, 3, 5, 7, 11, 13, 17, 19, 23, 29, 31, 37, 41, 43, 47, 53, 59, 61, 67, 71, 73, 79, 83, 89, 97, 101]\n"
          ],
          "name": "stdout"
        }
      ]
    },
    {
      "cell_type": "markdown",
      "metadata": {
        "id": "I-w3oKiH42iF",
        "colab_type": "text"
      },
      "source": [
        "Make a list with the following list values repeated 4 time"
      ]
    },
    {
      "cell_type": "code",
      "metadata": {
        "id": "70-818zw4f6E",
        "colab_type": "code",
        "colab": {
          "base_uri": "https://localhost:8080/",
          "height": 54
        },
        "outputId": "d8596dad-e7ae-4cd6-df92-a358b35b1793"
      },
      "source": [
        "houses = ['Gryffindor','Ravenclaw','Hufflepuff','Slytherin']\n",
        "print(houses*4)"
      ],
      "execution_count": null,
      "outputs": [
        {
          "output_type": "stream",
          "text": [
            "['Gryffindor', 'Ravenclaw', 'Hufflepuff', 'Slytherin', 'Gryffindor', 'Ravenclaw', 'Hufflepuff', 'Slytherin', 'Gryffindor', 'Ravenclaw', 'Hufflepuff', 'Slytherin', 'Gryffindor', 'Ravenclaw', 'Hufflepuff', 'Slytherin']\n"
          ],
          "name": "stdout"
        }
      ]
    },
    {
      "cell_type": "markdown",
      "metadata": {
        "id": "phzOB4YF5EQY",
        "colab_type": "text"
      },
      "source": [
        "What is the index of 73 in the provided list"
      ]
    },
    {
      "cell_type": "code",
      "metadata": {
        "id": "2oElt6Q048F-",
        "colab_type": "code",
        "colab": {
          "base_uri": "https://localhost:8080/",
          "height": 34
        },
        "outputId": "d98f1ad0-5ae9-42b5-f4f4-e877cdec6204"
      },
      "source": [
        "primes = [2, 3, 5, 7, 11, 13, 17, 19, 23, 29, 31, 37, 41, 43, 47, 53, 59, 61, 67, 71, 73, 79, 83, 89, 97, 101]\n",
        "primes.index(73)"
      ],
      "execution_count": null,
      "outputs": [
        {
          "output_type": "execute_result",
          "data": {
            "text/plain": [
              "20"
            ]
          },
          "metadata": {
            "tags": []
          },
          "execution_count": 27
        }
      ]
    },
    {
      "cell_type": "markdown",
      "metadata": {
        "id": "D_XFjQeD5SHT",
        "colab_type": "text"
      },
      "source": [
        "Is 42 in the provided list?"
      ]
    },
    {
      "cell_type": "code",
      "metadata": {
        "id": "7O3YElbk5KC-",
        "colab_type": "code",
        "colab": {
          "base_uri": "https://localhost:8080/",
          "height": 34
        },
        "outputId": "b383675f-62ee-4d8b-db61-0eea0e90ac7d"
      },
      "source": [
        "primes = [2, 3, 5, 7, 11, 13, 17, 19, 23, 29, 31, 37, 41, 43, 47, 53, 59, 61, 67, 71, 73, 79, 83, 89, 97, 101]\n",
        "\n",
        "42 in primes"
      ],
      "execution_count": null,
      "outputs": [
        {
          "output_type": "execute_result",
          "data": {
            "text/plain": [
              "False"
            ]
          },
          "metadata": {
            "tags": []
          },
          "execution_count": 43
        }
      ]
    },
    {
      "cell_type": "markdown",
      "metadata": {
        "id": "BsPFbHpi59bY",
        "colab_type": "text"
      },
      "source": [
        "Add the next prime number, 103, to the provided list"
      ]
    },
    {
      "cell_type": "code",
      "metadata": {
        "id": "UzHvCNno5qCO",
        "colab_type": "code",
        "colab": {
          "base_uri": "https://localhost:8080/",
          "height": 34
        },
        "outputId": "f98142a2-8a7f-48e4-f129-309abe968c24"
      },
      "source": [
        "primes = [2, 3, 5, 7, 11, 13, 17, 19, 23, 29, 31, 37, 41, 43, 47, 53, 59, 61, 67, 71, 73, 79, 83, 89, 97, 101]\n",
        "primes.append(103)\n",
        "print(primes)"
      ],
      "execution_count": null,
      "outputs": [
        {
          "output_type": "stream",
          "text": [
            "[2, 3, 5, 7, 11, 13, 17, 19, 23, 29, 31, 37, 41, 43, 47, 53, 59, 61, 67, 71, 73, 79, 83, 89, 97, 101, 103]\n"
          ],
          "name": "stdout"
        }
      ]
    },
    {
      "cell_type": "markdown",
      "metadata": {
        "id": "TlwS4mSl-uio",
        "colab_type": "text"
      },
      "source": [
        "Remove the last prime number in the list"
      ]
    },
    {
      "cell_type": "code",
      "metadata": {
        "id": "0-RhgdiI9o9L",
        "colab_type": "code",
        "colab": {
          "base_uri": "https://localhost:8080/",
          "height": 34
        },
        "outputId": "1b555741-fcae-40bd-a71d-91c197160428"
      },
      "source": [
        "primes = [2, 3, 5, 7, 11, 13, 17, 19, 23, 29, 31, 37, 41, 43, 47, 53, 59, 61, 67, 71, 73, 79, 83, 89, 97, 101]\n",
        "primes.pop()\n",
        "print(primes)"
      ],
      "execution_count": null,
      "outputs": [
        {
          "output_type": "stream",
          "text": [
            "[2, 3, 5, 7, 11, 13, 17, 19, 23, 29, 31, 37, 41, 43, 47, 53, 59, 61, 67, 71, 73, 79, 83, 89, 97]\n"
          ],
          "name": "stdout"
        }
      ]
    },
    {
      "cell_type": "markdown",
      "metadata": {
        "id": "fxtfv9UF_qgI",
        "colab_type": "text"
      },
      "source": [
        "Insert 42 into the the appropriate place to maintain order in the list"
      ]
    },
    {
      "cell_type": "code",
      "metadata": {
        "id": "OHAD9trZ_b7Q",
        "colab_type": "code",
        "colab": {}
      },
      "source": [
        "import bisect "
      ],
      "execution_count": null,
      "outputs": []
    },
    {
      "cell_type": "code",
      "metadata": {
        "id": "yZtyYk5zA7SO",
        "colab_type": "code",
        "colab": {
          "base_uri": "https://localhost:8080/",
          "height": 34
        },
        "outputId": "2f32425f-3422-49c5-c6d4-468181da955b"
      },
      "source": [
        "def insert(primes, n):\n",
        "  bisect.insort(primes, n)\n",
        "  return primes\n",
        "\n",
        "primes = [2, 3, 5, 7, 11, 13, 17, 19, 23, 29, 31, 37, 41, 43, 47, 53, 59, 61, 67, 71, 73, 79, 83, 89, 97, 101]\n",
        "n = 42\n",
        "\n",
        "print(insert(primes, n))"
      ],
      "execution_count": null,
      "outputs": [
        {
          "output_type": "stream",
          "text": [
            "[2, 3, 5, 7, 11, 13, 17, 19, 23, 29, 31, 37, 41, 42, 43, 47, 53, 59, 61, 67, 71, 73, 79, 83, 89, 97, 101]\n"
          ],
          "name": "stdout"
        }
      ]
    },
    {
      "cell_type": "markdown",
      "metadata": {
        "id": "-euWyQdgBmhR",
        "colab_type": "text"
      },
      "source": [
        "Here I have been using **Bisect Library** which is and inbuild python library,\n",
        "here the purpose of the bisect is to find the appropriate position of the element where it needs to be inserted."
      ]
    },
    {
      "cell_type": "markdown",
      "metadata": {
        "id": "UQtFpa4dCXo9",
        "colab_type": "text"
      },
      "source": [
        "Howm any 'fish' are in the provided list"
      ]
    },
    {
      "cell_type": "code",
      "metadata": {
        "id": "CIIpwJyZBiJO",
        "colab_type": "code",
        "colab": {}
      },
      "source": [
        "seuss = ['one', 'fist', 'two', 'fish', 'red', 'fist', 'blue', 'fish']"
      ],
      "execution_count": null,
      "outputs": []
    },
    {
      "cell_type": "code",
      "metadata": {
        "id": "NZFBtfUgCcJj",
        "colab_type": "code",
        "colab": {
          "base_uri": "https://localhost:8080/",
          "height": 34
        },
        "outputId": "18887186-df01-4625-dc64-23bce5700741"
      },
      "source": [
        "seuss.count('fish')"
      ],
      "execution_count": null,
      "outputs": [
        {
          "output_type": "execute_result",
          "data": {
            "text/plain": [
              "2"
            ]
          },
          "metadata": {
            "tags": []
          },
          "execution_count": 56
        }
      ]
    },
    {
      "cell_type": "markdown",
      "metadata": {
        "id": "TRx5WxvpCsn8",
        "colab_type": "text"
      },
      "source": [
        "Sort the provided list in ascending order"
      ]
    },
    {
      "cell_type": "code",
      "metadata": {
        "id": "7ucJqcK1ClmW",
        "colab_type": "code",
        "colab": {
          "base_uri": "https://localhost:8080/",
          "height": 34
        },
        "outputId": "28cb9825-286b-4994-ed11-b4ed65166cfc"
      },
      "source": [
        "digits = [8,4,1,3,0,2,7,6,5,9]\n",
        "digits.sort()\n",
        "digits"
      ],
      "execution_count": null,
      "outputs": [
        {
          "output_type": "execute_result",
          "data": {
            "text/plain": [
              "[0, 1, 2, 3, 4, 5, 6, 7, 8, 9]"
            ]
          },
          "metadata": {
            "tags": []
          },
          "execution_count": 58
        }
      ]
    },
    {
      "cell_type": "markdown",
      "metadata": {
        "id": "85CW32sIDPLp",
        "colab_type": "text"
      },
      "source": [
        "Sort the provided list in decending order"
      ]
    },
    {
      "cell_type": "code",
      "metadata": {
        "id": "ICjasyvsDGPj",
        "colab_type": "code",
        "colab": {
          "base_uri": "https://localhost:8080/",
          "height": 34
        },
        "outputId": "8be06f3e-7f60-43d7-bf67-dcfa2c524e0c"
      },
      "source": [
        "digits = [8,4,1,3,0,2,7,6,5,9]\n",
        "digits.sort(reverse=True)\n",
        "digits"
      ],
      "execution_count": null,
      "outputs": [
        {
          "output_type": "execute_result",
          "data": {
            "text/plain": [
              "[9, 8, 7, 6, 5, 4, 3, 2, 1, 0]"
            ]
          },
          "metadata": {
            "tags": []
          },
          "execution_count": 59
        }
      ]
    },
    {
      "cell_type": "markdown",
      "metadata": {
        "id": "wW2Z9x0pDfOO",
        "colab_type": "text"
      },
      "source": [
        "Reverse the provided list"
      ]
    },
    {
      "cell_type": "code",
      "metadata": {
        "id": "HXnA7dCCDZ1A",
        "colab_type": "code",
        "colab": {
          "base_uri": "https://localhost:8080/",
          "height": 34
        },
        "outputId": "b3127bc9-ce48-4bb4-b3dc-58433777a80b"
      },
      "source": [
        "seuss = ['one', 'fist', 'two', 'fish', 'red', 'fist', 'blue', 'fish']\n",
        "seuss.reverse()\n",
        "seuss"
      ],
      "execution_count": null,
      "outputs": [
        {
          "output_type": "execute_result",
          "data": {
            "text/plain": [
              "['fish', 'blue', 'fist', 'red', 'fish', 'two', 'fist', 'one']"
            ]
          },
          "metadata": {
            "tags": []
          },
          "execution_count": 61
        }
      ]
    },
    {
      "cell_type": "markdown",
      "metadata": {
        "id": "VI12tOZ9EEnt",
        "colab_type": "text"
      },
      "source": [
        "Remove Gryffindor from the provided list and print the result"
      ]
    },
    {
      "cell_type": "code",
      "metadata": {
        "id": "yIMD-o7LDlG_",
        "colab_type": "code",
        "colab": {
          "base_uri": "https://localhost:8080/",
          "height": 34
        },
        "outputId": "9086acef-771c-464b-bacc-13458ef5f481"
      },
      "source": [
        "houses = ['Gryffindor','Ravenclaw','Hufflepuff','Slytherin']\n",
        "houses.remove('Gryffindor')\n",
        "houses"
      ],
      "execution_count": null,
      "outputs": [
        {
          "output_type": "execute_result",
          "data": {
            "text/plain": [
              "['Ravenclaw', 'Hufflepuff', 'Slytherin']"
            ]
          },
          "metadata": {
            "tags": []
          },
          "execution_count": 64
        }
      ]
    },
    {
      "cell_type": "code",
      "metadata": {
        "id": "S29MiGXVEN35",
        "colab_type": "code",
        "colab": {
          "base_uri": "https://localhost:8080/",
          "height": 34
        },
        "outputId": "7c5bc407-fcca-4943-9db0-bef640749891"
      },
      "source": [
        "#method 2\n",
        "houses = ['Gryffindor','Ravenclaw','Hufflepuff','Slytherin']\n",
        "houses[1:]"
      ],
      "execution_count": null,
      "outputs": [
        {
          "output_type": "execute_result",
          "data": {
            "text/plain": [
              "['Ravenclaw', 'Hufflepuff', 'Slytherin']"
            ]
          },
          "metadata": {
            "tags": []
          },
          "execution_count": 65
        }
      ]
    },
    {
      "cell_type": "markdown",
      "metadata": {
        "id": "evDoTP6yEzwd",
        "colab_type": "text"
      },
      "source": [
        "Create a 3x3 matrix using lists of lists composed entierly of 1s"
      ]
    },
    {
      "cell_type": "code",
      "metadata": {
        "id": "JYEFTh3gEr-Q",
        "colab_type": "code",
        "colab": {
          "base_uri": "https://localhost:8080/",
          "height": 34
        },
        "outputId": "6b66ef71-c38a-4b3e-c976-fb6081d257ac"
      },
      "source": [
        "a = [[1,1,1]]*3\n",
        "a"
      ],
      "execution_count": null,
      "outputs": [
        {
          "output_type": "execute_result",
          "data": {
            "text/plain": [
              "[[1, 1, 1], [1, 1, 1], [1, 1, 1]]"
            ]
          },
          "metadata": {
            "tags": []
          },
          "execution_count": 68
        }
      ]
    },
    {
      "cell_type": "code",
      "metadata": {
        "id": "OfahMkDpE_R4",
        "colab_type": "code",
        "colab": {
          "base_uri": "https://localhost:8080/",
          "height": 34
        },
        "outputId": "b1be0917-e331-4ad9-edbf-4804e5ed8e72"
      },
      "source": [
        "#method 2\n",
        "\n",
        "val = [[1,1,1]]\n",
        "n = 3\n",
        "m = 3\n",
        "val = [1]*n\n",
        "\n",
        "for x in range (n):\n",
        "    val[x] = [1] * m\n",
        "print(val)"
      ],
      "execution_count": null,
      "outputs": [
        {
          "output_type": "stream",
          "text": [
            "[[1, 1, 1], [1, 1, 1], [1, 1, 1]]\n"
          ],
          "name": "stdout"
        }
      ]
    },
    {
      "cell_type": "markdown",
      "metadata": {
        "id": "RslyTLBSvgKz",
        "colab_type": "text"
      },
      "source": [
        "Create a list with your name, major, and graduating year"
      ]
    },
    {
      "cell_type": "code",
      "metadata": {
        "id": "7f79xLnUF1R_",
        "colab_type": "code",
        "colab": {
          "base_uri": "https://localhost:8080/",
          "height": 34
        },
        "outputId": "14f3587a-9fd6-4cd8-b478-5dcb5f8dec5d"
      },
      "source": [
        "My_list = ['My name is {} I am a {} passed out in {}'.format('Nikhil','Engineer','2017')]\n",
        "print(My_list)"
      ],
      "execution_count": null,
      "outputs": [
        {
          "output_type": "stream",
          "text": [
            "['My name is Nikhil I am a Engineer passed out in 2017']\n"
          ],
          "name": "stdout"
        }
      ]
    },
    {
      "cell_type": "markdown",
      "metadata": {
        "id": "GeNja9DnxqsN",
        "colab_type": "text"
      },
      "source": [
        "Create a dictionary with at least four entries where the keys are the last names of your favorite authors, and the value is your favourite book of theirs"
      ]
    },
    {
      "cell_type": "code",
      "metadata": {
        "id": "5TNqsLmzv0KJ",
        "colab_type": "code",
        "colab": {}
      },
      "source": [
        "my_dict = {\n",
        "            \"Book 1\":{\"Author\":\"Burkov\",\n",
        "                      \"Book Name\":\"The Hundred-Page Machine Learning Book\"},\n",
        "           \n",
        "            \"Book 2\":{\"Author\":\"Ben-David and Shalev-Shwartz\",\n",
        "                      \"Book Name\":\"Understanding Machine Learning: From Theory to Algorithms\"},\n",
        "\n",
        "           \"Book 3\":{\"Author\":\"Norvig and Russell\",\n",
        "                     \"Book Name\":\"Artificial Intelligence: A Modern Approach\"},\n",
        "           \"Book 4\":{\"Author\":\"Bishop\",\n",
        "                     \"Book Name\":\"Pattern Recognition and Machine Learning\"}}"
      ],
      "execution_count": null,
      "outputs": []
    },
    {
      "cell_type": "code",
      "metadata": {
        "id": "4BHP1Wclznsy",
        "colab_type": "code",
        "colab": {
          "base_uri": "https://localhost:8080/",
          "height": 153
        },
        "outputId": "d360781e-3e15-4693-ba1d-073ec63e69b0"
      },
      "source": [
        "my_dict"
      ],
      "execution_count": null,
      "outputs": [
        {
          "output_type": "execute_result",
          "data": {
            "text/plain": [
              "{'Book 1': {'Author': 'Burkov',\n",
              "  'Book Name': 'The Hundred-Page Machine Learning Book'},\n",
              " 'Book 2': {'Author': 'Ben-David and Shalev-Shwartz',\n",
              "  'Book Name': 'Understanding Machine Learning: From Theory to Algorithms'},\n",
              " 'Book 3': {'Author': 'Norvig and Russell',\n",
              "  'Book Name': 'Artificial Intelligence: A Modern Approach'},\n",
              " 'Book 4': {'Author': 'Bishop',\n",
              "  'Book Name': 'Pattern Recognition and Machine Learning'}}"
            ]
          },
          "metadata": {
            "tags": []
          },
          "execution_count": 20
        }
      ]
    },
    {
      "cell_type": "markdown",
      "metadata": {
        "id": "RdNqwGtq2gzV",
        "colab_type": "text"
      },
      "source": [
        "Show me the house roster for Ravenclaw"
      ]
    },
    {
      "cell_type": "code",
      "metadata": {
        "id": "F2PVb_1D04AF",
        "colab_type": "code",
        "colab": {}
      },
      "source": [
        "house_roster = {'Gryffindor':['Harry','Ron','Hermione','Neville'],'Ravenclaw':['Luna', 'Gilderoy', 'Penelope', 'Filius'],'Hufflepuff':['Newton', 'Nymphadora', 'Cedric', 'Teddy'],'Slytherin':['Tom', 'Draco', 'Regulus', 'Narcissa']}"
      ],
      "execution_count": null,
      "outputs": []
    },
    {
      "cell_type": "code",
      "metadata": {
        "id": "FVQHhbnQ2rg3",
        "colab_type": "code",
        "colab": {
          "base_uri": "https://localhost:8080/",
          "height": 34
        },
        "outputId": "4e9b9374-b2ce-412c-9d4d-57fe5a3f3066"
      },
      "source": [
        "house_roster['Ravenclaw']"
      ],
      "execution_count": null,
      "outputs": [
        {
          "output_type": "execute_result",
          "data": {
            "text/plain": [
              "['Luna', 'Gilderoy', 'Penelope', 'Filius']"
            ]
          },
          "metadata": {
            "tags": []
          },
          "execution_count": 24
        }
      ]
    },
    {
      "cell_type": "markdown",
      "metadata": {
        "id": "YJBVZeAm3Elv",
        "colab_type": "text"
      },
      "source": [
        "Delete all the Gryffindor information from the following dictionary"
      ]
    },
    {
      "cell_type": "code",
      "metadata": {
        "id": "AdeCfJug22RN",
        "colab_type": "code",
        "colab": {}
      },
      "source": [
        "house_roster = {'Gryffindor':['Harry','Ron','Hermione','Neville'],'Ravenclaw':['Luna', 'Gilderoy', 'Penelope', 'Filius'],'Hufflepuff':['Newton', 'Nymphadora', 'Cedric', 'Teddy'],'Slytherin':['Tom', 'Draco', 'Regulus', 'Narcissa']}"
      ],
      "execution_count": null,
      "outputs": []
    },
    {
      "cell_type": "code",
      "metadata": {
        "id": "RB9FeVHJ3J3r",
        "colab_type": "code",
        "colab": {}
      },
      "source": [
        "del house_roster['Gryffindor']"
      ],
      "execution_count": null,
      "outputs": []
    },
    {
      "cell_type": "code",
      "metadata": {
        "id": "Hs8ySvtn3Pz3",
        "colab_type": "code",
        "colab": {
          "base_uri": "https://localhost:8080/",
          "height": 68
        },
        "outputId": "d424d500-0a58-49d7-a13a-470b1b1e528d"
      },
      "source": [
        "house_roster"
      ],
      "execution_count": null,
      "outputs": [
        {
          "output_type": "execute_result",
          "data": {
            "text/plain": [
              "{'Hufflepuff': ['Newton', 'Nymphadora', 'Cedric', 'Teddy'],\n",
              " 'Ravenclaw': ['Luna', 'Gilderoy', 'Penelope', 'Filius'],\n",
              " 'Slytherin': ['Tom', 'Draco', 'Regulus', 'Narcissa']}"
            ]
          },
          "metadata": {
            "tags": []
          },
          "execution_count": 28
        }
      ]
    },
    {
      "cell_type": "markdown",
      "metadata": {
        "id": "UuoGBkTQ3zwI",
        "colab_type": "text"
      },
      "source": [
        "Print all the keys in the provided dictionary"
      ]
    },
    {
      "cell_type": "code",
      "metadata": {
        "id": "Wo0wFHgE3vH0",
        "colab_type": "code",
        "colab": {}
      },
      "source": [
        "house_roster = {'Gryffindor':['Harry','Ron','Hermione','Neville'],'Ravenclaw':['Luna', 'Gilderoy', 'Penelope', 'Filius'],'Hufflepuff':['Newton', 'Nymphadora', 'Cedric', 'Teddy'],'Slytherin':['Tom', 'Draco', 'Regulus', 'Narcissa']}"
      ],
      "execution_count": null,
      "outputs": []
    },
    {
      "cell_type": "code",
      "metadata": {
        "id": "Eh6r6PDy359A",
        "colab_type": "code",
        "colab": {
          "base_uri": "https://localhost:8080/",
          "height": 34
        },
        "outputId": "8df8f6af-1569-420b-e507-13431ec58a03"
      },
      "source": [
        "house_roster.keys()"
      ],
      "execution_count": null,
      "outputs": [
        {
          "output_type": "execute_result",
          "data": {
            "text/plain": [
              "dict_keys(['Gryffindor', 'Ravenclaw', 'Hufflepuff', 'Slytherin'])"
            ]
          },
          "metadata": {
            "tags": []
          },
          "execution_count": 38
        }
      ]
    },
    {
      "cell_type": "markdown",
      "metadata": {
        "id": "PSASJWcc4vHA",
        "colab_type": "text"
      },
      "source": [
        "Print all the values in the provided dictionary"
      ]
    },
    {
      "cell_type": "code",
      "metadata": {
        "id": "T_0WO9gA4QBJ",
        "colab_type": "code",
        "colab": {}
      },
      "source": [
        "house_roster = {'Gryffindor':['Harry','Ron','Hermione','Neville'],'Ravenclaw':['Luna', 'Gilderoy', 'Penelope', 'Filius'],'Hufflepuff':['Newton', 'Nymphadora', 'Cedric', 'Teddy'],'Slytherin':['Tom', 'Draco', 'Regulus', 'Narcissa']}"
      ],
      "execution_count": null,
      "outputs": []
    },
    {
      "cell_type": "code",
      "metadata": {
        "id": "PA1RE83r41N9",
        "colab_type": "code",
        "colab": {
          "base_uri": "https://localhost:8080/",
          "height": 54
        },
        "outputId": "8978b361-a730-4526-adc5-3a9228456ac1"
      },
      "source": [
        "house_roster.values()"
      ],
      "execution_count": null,
      "outputs": [
        {
          "output_type": "execute_result",
          "data": {
            "text/plain": [
              "dict_values([['Harry', 'Ron', 'Hermione', 'Neville'], ['Luna', 'Gilderoy', 'Penelope', 'Filius'], ['Newton', 'Nymphadora', 'Cedric', 'Teddy'], ['Tom', 'Draco', 'Regulus', 'Narcissa']])"
            ]
          },
          "metadata": {
            "tags": []
          },
          "execution_count": 42
        }
      ]
    },
    {
      "cell_type": "markdown",
      "metadata": {
        "id": "YIbDdwnq5FRQ",
        "colab_type": "text"
      },
      "source": [
        "Make a copy of the following dictionary, then add Abraxas to the Slytherine roster and print the result"
      ]
    },
    {
      "cell_type": "code",
      "metadata": {
        "id": "OK6NIzz243o_",
        "colab_type": "code",
        "colab": {}
      },
      "source": [
        "house_roster = {'Gryffindor':['Harry','Ron','Hermione','Neville'],'Ravenclaw':['Luna', 'Gilderoy', 'Penelope', 'Filius'],'Hufflepuff':['Newton', 'Nymphadora', 'Cedric', 'Teddy'],'Slytherin':['Tom', 'Draco', 'Regulus', 'Narcissa']}"
      ],
      "execution_count": null,
      "outputs": []
    },
    {
      "cell_type": "code",
      "metadata": {
        "id": "7LQUm6TM5N7o",
        "colab_type": "code",
        "colab": {}
      },
      "source": [
        "house_new = house_roster.copy()"
      ],
      "execution_count": null,
      "outputs": []
    },
    {
      "cell_type": "code",
      "metadata": {
        "id": "SUn3UGGt5adm",
        "colab_type": "code",
        "colab": {}
      },
      "source": [
        "house_new['Abraxas'] = house_new['Slytherin']\n",
        "del house_new['Slytherin']"
      ],
      "execution_count": null,
      "outputs": []
    },
    {
      "cell_type": "code",
      "metadata": {
        "id": "gM_07DZH5fju",
        "colab_type": "code",
        "colab": {
          "base_uri": "https://localhost:8080/",
          "height": 85
        },
        "outputId": "74261ec8-71a9-4630-c355-4dbaf3c983fd"
      },
      "source": [
        "house_new"
      ],
      "execution_count": null,
      "outputs": [
        {
          "output_type": "execute_result",
          "data": {
            "text/plain": [
              "{'Abraxas': ['Tom', 'Draco', 'Regulus', 'Narcissa'],\n",
              " 'Gryffindor': ['Harry', 'Ron', 'Hermione', 'Neville'],\n",
              " 'Hufflepuff': ['Newton', 'Nymphadora', 'Cedric', 'Teddy'],\n",
              " 'Ravenclaw': ['Luna', 'Gilderoy', 'Penelope', 'Filius']}"
            ]
          },
          "metadata": {
            "tags": []
          },
          "execution_count": 48
        }
      ]
    },
    {
      "cell_type": "markdown",
      "metadata": {
        "id": "TMcsCuba7Nxg",
        "colab_type": "text"
      },
      "source": [
        "Clear the provided dictionary and provide the result"
      ]
    },
    {
      "cell_type": "code",
      "metadata": {
        "id": "6lpuhLT77Cdt",
        "colab_type": "code",
        "colab": {}
      },
      "source": [
        "house_roster = {'Gryffindor':['Harry','Ron','Hermione','Neville'],'Ravenclaw':['Luna', 'Gilderoy', 'Penelope', 'Filius'],'Hufflepuff':['Newton', 'Nymphadora', 'Cedric', 'Teddy'],'Slytherin':['Tom', 'Draco', 'Regulus', 'Narcissa']}"
      ],
      "execution_count": null,
      "outputs": []
    },
    {
      "cell_type": "code",
      "metadata": {
        "id": "d-9b-olW7SNl",
        "colab_type": "code",
        "colab": {}
      },
      "source": [
        "house_roster.clear()"
      ],
      "execution_count": null,
      "outputs": []
    },
    {
      "cell_type": "code",
      "metadata": {
        "id": "Ue_AZyBz7Wye",
        "colab_type": "code",
        "colab": {
          "base_uri": "https://localhost:8080/",
          "height": 34
        },
        "outputId": "6f5ce3ad-5874-4f7c-f40a-2b09c1132154"
      },
      "source": [
        "print(\"Cleared Dict :\",house_roster)"
      ],
      "execution_count": null,
      "outputs": [
        {
          "output_type": "stream",
          "text": [
            "Cleared Dict : {}\n"
          ],
          "name": "stdout"
        }
      ]
    },
    {
      "cell_type": "markdown",
      "metadata": {
        "id": "7SiacB8V7qyX",
        "colab_type": "text"
      },
      "source": [
        "Pop Gryffindor from the following dictionary. Print out the list of those Gryffindor students and the updated dictionary"
      ]
    },
    {
      "cell_type": "code",
      "metadata": {
        "id": "L0eNtNlX7ZYP",
        "colab_type": "code",
        "colab": {}
      },
      "source": [
        "house_roster = {'Gryffindor':['Harry','Ron','Hermione','Neville'],'Ravenclaw':['Luna', 'Gilderoy', 'Penelope', 'Filius'],'Hufflepuff':['Newton', 'Nymphadora', 'Cedric', 'Teddy'],'Slytherin':['Tom', 'Draco', 'Regulus', 'Narcissa']}"
      ],
      "execution_count": null,
      "outputs": []
    },
    {
      "cell_type": "code",
      "metadata": {
        "id": "6m8Kc1Av7wBT",
        "colab_type": "code",
        "colab": {
          "base_uri": "https://localhost:8080/",
          "height": 34
        },
        "outputId": "14955817-a254-45ef-afde-c952a39603ab"
      },
      "source": [
        "house_roster.pop('Gryffindor')"
      ],
      "execution_count": null,
      "outputs": [
        {
          "output_type": "execute_result",
          "data": {
            "text/plain": [
              "['Harry', 'Ron', 'Hermione', 'Neville']"
            ]
          },
          "metadata": {
            "tags": []
          },
          "execution_count": 60
        }
      ]
    },
    {
      "cell_type": "markdown",
      "metadata": {
        "id": "AtWjDczD8gHp",
        "colab_type": "text"
      },
      "source": [
        "Pop a random item from the provided list and print its key/value pair"
      ]
    },
    {
      "cell_type": "code",
      "metadata": {
        "id": "n3zEEsFQ8FpA",
        "colab_type": "code",
        "colab": {}
      },
      "source": [
        "house_roster = {'Gryffindor':['Harry','Ron','Hermione','Neville'],'Ravenclaw':['Luna', 'Gilderoy', 'Penelope', 'Filius'],'Hufflepuff':['Newton', 'Nymphadora', 'Cedric', 'Teddy'],'Slytherin':['Tom', 'Draco', 'Regulus', 'Narcissa']}"
      ],
      "execution_count": null,
      "outputs": []
    },
    {
      "cell_type": "code",
      "metadata": {
        "id": "ZfjZTEcB8qg2",
        "colab_type": "code",
        "colab": {
          "base_uri": "https://localhost:8080/",
          "height": 34
        },
        "outputId": "57d8b60e-f1f6-4d50-8828-f10b4957142c"
      },
      "source": [
        "house_roster.popitem()"
      ],
      "execution_count": null,
      "outputs": [
        {
          "output_type": "execute_result",
          "data": {
            "text/plain": [
              "('Slytherin', ['Tom', 'Draco', 'Regulus', 'Narcissa'])"
            ]
          },
          "metadata": {
            "tags": []
          },
          "execution_count": 62
        }
      ]
    },
    {
      "cell_type": "markdown",
      "metadata": {
        "id": "rCCLvGd482wg",
        "colab_type": "text"
      },
      "source": [
        "Search for 'Diagon Alley' in the keys of the dictionary, and it its not there, return 'Not found'"
      ]
    },
    {
      "cell_type": "code",
      "metadata": {
        "id": "JRov8YZU8ukh",
        "colab_type": "code",
        "colab": {}
      },
      "source": [
        "house_roster = {'Gryffindor':['Harry','Ron','Hermione','Neville'],'Ravenclaw':['Luna', 'Gilderoy', 'Penelope', 'Filius'],'Hufflepuff':['Newton', 'Nymphadora', 'Cedric', 'Teddy'],'Slytherin':['Tom', 'Draco', 'Regulus', 'Narcissa']}"
      ],
      "execution_count": null,
      "outputs": []
    },
    {
      "cell_type": "code",
      "metadata": {
        "id": "Xt1HmnPM888W",
        "colab_type": "code",
        "colab": {
          "base_uri": "https://localhost:8080/",
          "height": 34
        },
        "outputId": "291b311d-5076-4665-f626-bcd9ec5568db"
      },
      "source": [
        "if \"Diagon Alley\" in house_roster:\n",
        "    print(\"Yes 'Diagon Alley' key exists in dict\")\n",
        "else:\n",
        "    print(\"No 'Diagon Alley' key does not exists in dict\") "
      ],
      "execution_count": null,
      "outputs": [
        {
          "output_type": "stream",
          "text": [
            "No 'Diagon Alley' key does not exists in dict\n"
          ],
          "name": "stdout"
        }
      ]
    },
    {
      "cell_type": "markdown",
      "metadata": {
        "id": "CCMOESBD9yc8",
        "colab_type": "text"
      },
      "source": [
        "What is the length of the dictionary"
      ]
    },
    {
      "cell_type": "code",
      "metadata": {
        "id": "q5-hcvkK9j69",
        "colab_type": "code",
        "colab": {}
      },
      "source": [
        "house_roster = {'Gryffindor':['Harry','Ron','Hermione','Neville'],'Ravenclaw':['Luna', 'Gilderoy', 'Penelope', 'Filius'],'Hufflepuff':['Newton', 'Nymphadora', 'Cedric', 'Teddy'],'Slytherin':['Tom', 'Draco', 'Regulus', 'Narcissa']}"
      ],
      "execution_count": null,
      "outputs": []
    },
    {
      "cell_type": "code",
      "metadata": {
        "id": "GNpzw23P957K",
        "colab_type": "code",
        "colab": {
          "base_uri": "https://localhost:8080/",
          "height": 34
        },
        "outputId": "24b26e08-5a65-4be5-a382-f60b94113968"
      },
      "source": [
        "print(\"lenght of dict :\",len(house_roster))"
      ],
      "execution_count": null,
      "outputs": [
        {
          "output_type": "stream",
          "text": [
            "lenght of dict : 4\n"
          ],
          "name": "stdout"
        }
      ]
    },
    {
      "cell_type": "markdown",
      "metadata": {
        "id": "zvnt9i3Q-ebF",
        "colab_type": "text"
      },
      "source": [
        "Print only the area code of the below phone number"
      ]
    },
    {
      "cell_type": "code",
      "metadata": {
        "id": "4uYJwtk_-AlI",
        "colab_type": "code",
        "colab": {}
      },
      "source": [
        "phone = ('(', 5, 1, 3, ')',' ',8,6,7,'-',5,3,0,9)"
      ],
      "execution_count": null,
      "outputs": []
    },
    {
      "cell_type": "code",
      "metadata": {
        "id": "pGG1En3l-kMx",
        "colab_type": "code",
        "colab": {
          "base_uri": "https://localhost:8080/",
          "height": 34
        },
        "outputId": "0df6b145-12c0-4dba-b9a2-71a300a33aba"
      },
      "source": [
        "print(phone[:5])"
      ],
      "execution_count": null,
      "outputs": [
        {
          "output_type": "stream",
          "text": [
            "('(', 5, 1, 3, ')')\n"
          ],
          "name": "stdout"
        }
      ]
    },
    {
      "cell_type": "markdown",
      "metadata": {
        "id": "0BoiBtsU_3cA",
        "colab_type": "text"
      },
      "source": [
        "Print the phone number without the area code, include the '-'"
      ]
    },
    {
      "cell_type": "code",
      "metadata": {
        "id": "rdv4Cu0O-th8",
        "colab_type": "code",
        "colab": {}
      },
      "source": [
        "phone = ('(', 5, 1, 3, ')',' ',8,6,7,'-',5,3,0,9)"
      ],
      "execution_count": null,
      "outputs": []
    },
    {
      "cell_type": "code",
      "metadata": {
        "id": "paS7yfvsAD1k",
        "colab_type": "code",
        "colab": {
          "base_uri": "https://localhost:8080/",
          "height": 34
        },
        "outputId": "201ded60-467b-4f49-8449-3feeee612fb6"
      },
      "source": [
        "phone[6:]"
      ],
      "execution_count": null,
      "outputs": [
        {
          "output_type": "execute_result",
          "data": {
            "text/plain": [
              "(8, 6, 7, '-', 5, 3, 0, 9)"
            ]
          },
          "metadata": {
            "tags": []
          },
          "execution_count": 74
        }
      ]
    },
    {
      "cell_type": "markdown",
      "metadata": {
        "id": "oBclcg7yAOe8",
        "colab_type": "text"
      },
      "source": [
        "Print the length of the tuple"
      ]
    },
    {
      "cell_type": "code",
      "metadata": {
        "id": "-Fy-K-ExAGkX",
        "colab_type": "code",
        "colab": {
          "base_uri": "https://localhost:8080/",
          "height": 34
        },
        "outputId": "70720230-c7a4-4366-d154-1682f340fe52"
      },
      "source": [
        "phone = ('(', 5, 1, 3, ')',' ',8,6,7,'-',5,3,0,9)\n",
        "len(phone)"
      ],
      "execution_count": null,
      "outputs": [
        {
          "output_type": "execute_result",
          "data": {
            "text/plain": [
              "14"
            ]
          },
          "metadata": {
            "tags": []
          },
          "execution_count": 75
        }
      ]
    },
    {
      "cell_type": "markdown",
      "metadata": {
        "id": "kV7i1-RfAuT_",
        "colab_type": "text"
      },
      "source": [
        "Concatenae the phone_number and the area_code, along with anything else, to create a tuple equal to phone_complete"
      ]
    },
    {
      "cell_type": "code",
      "metadata": {
        "id": "CsXamzQOAVRC",
        "colab_type": "code",
        "colab": {}
      },
      "source": [
        "area_code = (5, 1, 3)\n",
        "phone_number = (8,6,7,'-',5,3,0,9)\n",
        "phone_complete = ('(', 5, 1, 3, ')',' ',8,6,7,'-',5,3,0,9)"
      ],
      "execution_count": null,
      "outputs": []
    },
    {
      "cell_type": "code",
      "metadata": {
        "id": "WjzfPcDnA1vo",
        "colab_type": "code",
        "colab": {
          "base_uri": "https://localhost:8080/",
          "height": 34
        },
        "outputId": "7c2c9ee2-7b23-437d-b9a3-27e43ab25a80"
      },
      "source": [
        "print(\"'('{}')',{}\".format(area_code,phone_number))"
      ],
      "execution_count": null,
      "outputs": [
        {
          "output_type": "stream",
          "text": [
            "'('(5, 1, 3)')',(8, 6, 7, '-', 5, 3, 0, 9)\n"
          ],
          "name": "stdout"
        }
      ]
    },
    {
      "cell_type": "markdown",
      "metadata": {
        "id": "-Up5rygYDAGB",
        "colab_type": "text"
      },
      "source": [
        "Using the phone number below, create a tuple of just the numbers (none of the symbols) reapeated 3 times."
      ]
    },
    {
      "cell_type": "code",
      "metadata": {
        "id": "hf9H0v1fBDYt",
        "colab_type": "code",
        "colab": {
          "base_uri": "https://localhost:8080/",
          "height": 34
        },
        "outputId": "12eb1446-2600-4826-a883-30aaccb210dc"
      },
      "source": [
        "phone_complete = ('(', 5, 1, 3, ')',' ',8,6,7,'-',5,3,0,9)\n",
        "phone__ss= str(phone_complete)\n",
        "phone__ss"
      ],
      "execution_count": null,
      "outputs": [
        {
          "output_type": "execute_result",
          "data": {
            "text/plain": [
              "\"('(', 5, 1, 3, ')', ' ', 8, 6, 7, '-', 5, 3, 0, 9)\""
            ]
          },
          "metadata": {
            "tags": []
          },
          "execution_count": 117
        }
      ]
    },
    {
      "cell_type": "code",
      "metadata": {
        "id": "0L3UmDxuDIie",
        "colab_type": "code",
        "colab": {}
      },
      "source": [
        "#res = [int(i) for i in phone__ss.split() if i.isdigit()]"
      ],
      "execution_count": null,
      "outputs": []
    },
    {
      "cell_type": "code",
      "metadata": {
        "id": "gc5bonz6HBiR",
        "colab_type": "code",
        "colab": {}
      },
      "source": [
        "#print(\"The numbers list is : \" + str(res)) "
      ],
      "execution_count": null,
      "outputs": []
    },
    {
      "cell_type": "code",
      "metadata": {
        "id": "xfykaNHZH2uv",
        "colab_type": "code",
        "colab": {
          "base_uri": "https://localhost:8080/",
          "height": 34
        },
        "outputId": "949dcadc-d7e1-4205-e5e0-2c2a5f7eb3b4"
      },
      "source": [
        "import re\n",
        "list_of_nums = map(int, re.findall('\\d+', phone__ss))\n",
        "print (list_of_nums)"
      ],
      "execution_count": null,
      "outputs": [
        {
          "output_type": "stream",
          "text": [
            "<map object at 0x7f96fda24da0>\n"
          ],
          "name": "stdout"
        }
      ]
    },
    {
      "cell_type": "code",
      "metadata": {
        "id": "tDSFIBZXJJMV",
        "colab_type": "code",
        "colab": {
          "base_uri": "https://localhost:8080/",
          "height": 129
        },
        "outputId": "5e999fe9-549a-4902-d7a0-073796e18fa9"
      },
      "source": [
        "print int(filter(str.isdigit, phone__ss))"
      ],
      "execution_count": null,
      "outputs": [
        {
          "output_type": "error",
          "ename": "SyntaxError",
          "evalue": "ignored",
          "traceback": [
            "\u001b[0;36m  File \u001b[0;32m\"<ipython-input-120-5e2fcbdb96c9>\"\u001b[0;36m, line \u001b[0;32m1\u001b[0m\n\u001b[0;31m    print int(filter(str.isdigit, phone__ss))\u001b[0m\n\u001b[0m            ^\u001b[0m\n\u001b[0;31mSyntaxError\u001b[0m\u001b[0;31m:\u001b[0m invalid syntax\n"
          ]
        }
      ]
    },
    {
      "cell_type": "markdown",
      "metadata": {
        "id": "MuYA0v6NDghk",
        "colab_type": "text"
      },
      "source": [
        "Print the number of times \"Never gonna let you down\" is in the tuple."
      ]
    },
    {
      "cell_type": "code",
      "metadata": {
        "id": "_pERuTSKDL8P",
        "colab_type": "code",
        "colab": {}
      },
      "source": [
        "astley = (\"We're no strangers to love\",\n",
        "\"You know the rules and so do I\",\n",
        "\"A full commitment's what I'm thinking of\",\n",
        "\"You wouldn't get this from any other guy\",\n",
        "\"I just wanna tell you how I'm feeling\",\n",
        "\"Gotta make you understand\",\n",
        "\"Never gonna give you up\",\n",
        "\"Never gonna let you down\",\n",
        "\"Never gonna run around and desert you\",\n",
        "\"Never gonna make you cry\",\n",
        "\"Never gonna say goodbye\",\n",
        "\"Never gonna tell a lie and hurt you\",\n",
        "\"We've known each other for so long\",\n",
        "\"Your heart's been aching, but\",\n",
        "\"You're too shy to say it\",\n",
        "\"Inside, we both know what's been going on\",\n",
        "\"We know the game and we're gonna play it\",\n",
        "\"And if you ask me how I'm feeling\",\n",
        "\"Don't tell me you're too blind to see\",\n",
        "\"Never gonna give you up\",\n",
        "\"Never gonna let you down\",\n",
        "\"Never gonna run around and desert you\",\n",
        "\"Never gonna make you cry\",\n",
        "\"Never gonna say goodbye\",\n",
        "\"Never gonna tell a lie and hurt you\",\n",
        "\"Never gonna give you up\",\n",
        "\"Never gonna let you down\",\n",
        "\"Never gonna run around and desert you\",\n",
        "\"Never gonna make you cry\",\n",
        "\"Never gonna say goodbye\",\n",
        "\"Never gonna tell a lie and hurt you\",\n",
        "\"(Ooh, give you up)\",\n",
        "\"(Ooh, give you up)\",\n",
        "\"Never gonna give, never gonna give\",\n",
        "\"(Give you up)\",\n",
        "\"Never gonna give, never gonna give\",\n",
        "\"(Give you up)\",\n",
        "\"We've known each other for so long\",\n",
        "\"Your heart's been aching, but\",\n",
        "\"You're too shy to say it\",\n",
        "\"Inside, we both know what's been going on\",\n",
        "\"We know the game and we're gonna play it\",\n",
        "\"I just wanna tell you how I'm feeling\",\n",
        "\"Gotta make you understand\",\n",
        "\"Never gonna give you up\",\n",
        "\"Never gonna let you down\",\n",
        "\"Never gonna run around and desert you\",\n",
        "\"Never gonna make you cry\",\n",
        "\"Never gonna say goodbye\",\n",
        "\"Never gonna tell a lie and hurt you\",\n",
        "\"Never gonna give you up\",\n",
        "\"Never gonna let you down\",\n",
        "\"Never gonna run around and desert you\",\n",
        "\"Never gonna make you cry\",\n",
        "\"Never gonna say goodbye\",\n",
        "\"Never gonna tell a lie and hurt you\",\n",
        "\"Never gonna give you up\",\n",
        "\"Never gonna let you down\",\n",
        "\"Never gonna run around and desert you\",\n",
        "\"Never gonna make you cry\",\n",
        "\"Never gonna say goodbye\",\n",
        "\"Never gonna tell a lie and hurt you\")\n"
      ],
      "execution_count": null,
      "outputs": []
    },
    {
      "cell_type": "code",
      "metadata": {
        "id": "Mz-UMk1CEaTT",
        "colab_type": "code",
        "colab": {
          "base_uri": "https://localhost:8080/",
          "height": 34
        },
        "outputId": "0aa3bb17-acda-461a-b64e-0aba1ff28dc2"
      },
      "source": [
        "astley.count(\"Never gonna let you down\")"
      ],
      "execution_count": null,
      "outputs": [
        {
          "output_type": "execute_result",
          "data": {
            "text/plain": [
              "6"
            ]
          },
          "metadata": {
            "tags": []
          },
          "execution_count": 97
        }
      ]
    },
    {
      "cell_type": "code",
      "metadata": {
        "id": "0Wh3gDeeEx41",
        "colab_type": "code",
        "colab": {}
      },
      "source": [
        ""
      ],
      "execution_count": null,
      "outputs": []
    }
  ]
}