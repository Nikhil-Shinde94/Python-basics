{
  "nbformat": 4,
  "nbformat_minor": 0,
  "metadata": {
    "colab": {
      "name": "Assignment-6_Introduction_To_Functions_Nikhil.S.ipynb",
      "provenance": [],
      "collapsed_sections": []
    },
    "kernelspec": {
      "name": "python3",
      "display_name": "Python 3"
    }
  },
  "cells": [
    {
      "cell_type": "markdown",
      "metadata": {
        "id": "lh1GzrywYRt2",
        "colab_type": "text"
      },
      "source": [
        "Homework 07 - Introduction to Functions\n",
        "For each of the function problems below, maintain the name of both the functions and the arguments. If you change either you will be marked down.\n",
        "\n",
        "You can add or change default values if you want though."
      ]
    },
    {
      "cell_type": "markdown",
      "metadata": {
        "id": "kkOZPvaHYvvS",
        "colab_type": "text"
      },
      "source": [
        "Create a function, named my_add, that returns the sum of two numbers"
      ]
    },
    {
      "cell_type": "code",
      "metadata": {
        "id": "1MTZZXpWX4pj",
        "colab_type": "code",
        "colab": {
          "base_uri": "https://localhost:8080/",
          "height": 68
        },
        "outputId": "bb3b8124-7dd3-4933-9646-65c09d8face5"
      },
      "source": [
        "def my_add(x,y):\n",
        "    return x+y\n",
        "\n",
        "a= int(input(\"Enter first number:\"))\n",
        "b= int(input(\"Enter second number:\"))\n",
        "\n",
        "print(\"Sum of the given two numbers is: \", sum(a,b))\n"
      ],
      "execution_count": null,
      "outputs": [
        {
          "output_type": "stream",
          "text": [
            "Enter first number:5\n",
            "Enter second number:12\n",
            "Sum of the given two numbers is:  17\n"
          ],
          "name": "stdout"
        }
      ]
    },
    {
      "cell_type": "markdown",
      "metadata": {
        "id": "JJxCJZLTdA0T",
        "colab_type": "text"
      },
      "source": [
        "Create a function, called my_factorial, which returns the factorial of the provided number."
      ]
    },
    {
      "cell_type": "code",
      "metadata": {
        "id": "nTUwrtmjbOeb",
        "colab_type": "code",
        "colab": {
          "base_uri": "https://localhost:8080/",
          "height": 34
        },
        "outputId": "d5a390cf-cb54-4b18-cdaf-7ffb8045fbdc"
      },
      "source": [
        "def my_factorial(num):\n",
        "\tif(num == 1):\n",
        "\t\treturn 1\n",
        "\ts = num * my_factorial(num-1)\n",
        "\treturn s;\n",
        " \n",
        "my_factorial(5)"
      ],
      "execution_count": null,
      "outputs": [
        {
          "output_type": "execute_result",
          "data": {
            "text/plain": [
              "120"
            ]
          },
          "metadata": {
            "tags": []
          },
          "execution_count": 9
        }
      ]
    },
    {
      "cell_type": "code",
      "metadata": {
        "id": "nbkDxpoDfY7V",
        "colab_type": "code",
        "colab": {
          "base_uri": "https://localhost:8080/",
          "height": 51
        },
        "outputId": "4f35dc1c-a3d0-485b-a0b7-98e915560dad"
      },
      "source": [
        "#method 2 with user input\n",
        "\n",
        "def my_factorial_2(x):\n",
        "\tif(x == 1):\n",
        "\t\treturn 1\n",
        "\ts = x * my_factorial_2(x-1)\n",
        "\treturn s;\n",
        " \n",
        "a= int(input(\"Enter The number:\"))\n",
        "\n",
        "print(\"Factorial of number is :\", my_factorial_2(a))"
      ],
      "execution_count": null,
      "outputs": [
        {
          "output_type": "stream",
          "text": [
            "Enter The number:10\n",
            "Factorial of number is : 3628800\n"
          ],
          "name": "stdout"
        }
      ]
    },
    {
      "cell_type": "markdown",
      "metadata": {
        "id": "L3ViaCmBhFzO",
        "colab_type": "text"
      },
      "source": [
        "Create a function, named odd_or_even, that tells me if the provided integer is odd or even"
      ]
    },
    {
      "cell_type": "code",
      "metadata": {
        "id": "eHV2lOo3gmo_",
        "colab_type": "code",
        "colab": {
          "base_uri": "https://localhost:8080/",
          "height": 68
        },
        "outputId": "d3d76232-ac7e-4dec-f45e-b8803baed978"
      },
      "source": [
        "def odd_or_even(y):\n",
        "  if (y % 2 == 0):\n",
        "    print(\"Number is even\")\n",
        "  else:\n",
        "    print(\"Number is odd\")\n",
        "  return;\n",
        "\n",
        "a = int(input(\"Enter the Number :\"))\n",
        "\n",
        "print(odd_or_even(a))"
      ],
      "execution_count": null,
      "outputs": [
        {
          "output_type": "stream",
          "text": [
            "Enter the Number :9\n",
            "Number is odd\n",
            "None\n"
          ],
          "name": "stdout"
        }
      ]
    },
    {
      "cell_type": "markdown",
      "metadata": {
        "id": "p9HOJjMQiObA",
        "colab_type": "text"
      },
      "source": [
        "Create a function, named divisors, which tells me every number from 1 upto the original value that divides the original evenly\n",
        "For example, given 15 divisors should return the list [1,3,5,15]\n",
        "\n",
        "Given 1, divisors should return the list [1]\n",
        "\n",
        "Given 11, divisors should return the list [1,11]"
      ]
    },
    {
      "cell_type": "code",
      "metadata": {
        "id": "l5Lue-4mhwhr",
        "colab_type": "code",
        "colab": {
          "base_uri": "https://localhost:8080/",
          "height": 119
        },
        "outputId": "64a26863-2650-437e-f682-1f2290cc92fb"
      },
      "source": [
        "def divisors(n):\n",
        "  i = 1\n",
        "  while i <= n:\n",
        "    if (n % i == 0):\n",
        "      print(i)\n",
        "    i += 1\n",
        "\n",
        "print(divisors(int(input(\"Enter :\"))))"
      ],
      "execution_count": null,
      "outputs": [
        {
          "output_type": "stream",
          "text": [
            "Enter :15\n",
            "1\n",
            "3\n",
            "5\n",
            "15\n",
            "None\n"
          ],
          "name": "stdout"
        }
      ]
    },
    {
      "cell_type": "markdown",
      "metadata": {
        "id": "xFb2AQUGl25G",
        "colab_type": "text"
      },
      "source": [
        "Create a function, named fibonacci, which returns a list of all the Fibonacci numbers less than the provided value\n",
        "For exampe, given 15, the returned list should be [1,1,2,3,5,8,13]"
      ]
    },
    {
      "cell_type": "code",
      "metadata": {
        "id": "d2U2SoZojP4Z",
        "colab_type": "code",
        "colab": {
          "base_uri": "https://localhost:8080/",
          "height": 51
        },
        "outputId": "d3838fa2-0c9e-4576-e935-9ecf1f642181"
      },
      "source": [
        "def fibonacci(n):\n",
        "  a = 0\n",
        "  b = 1\n",
        "  if n < 0:\n",
        "    print(\"Incorrect Number\")\n",
        "  elif n == 1:\n",
        "    return a\n",
        "  elif n == 2:\n",
        "    return b\n",
        "  else:\n",
        "    for i in range(1, n):\n",
        "      c = a + b\n",
        "      a = b\n",
        "      b = c\n",
        "  return b\n",
        "\n",
        "en = int(input(\"Enter :\"))\n",
        "\n",
        "print(\"Series :\",fibonacci(en))\n"
      ],
      "execution_count": null,
      "outputs": [
        {
          "output_type": "stream",
          "text": [
            "Enter :10\n",
            "Series : 55\n"
          ],
          "name": "stdout"
        }
      ]
    },
    {
      "cell_type": "markdown",
      "metadata": {
        "id": "sQ-7MoqfrAEd",
        "colab_type": "text"
      },
      "source": [
        "Create a function, called palindrome, which tells me if the provided string is a palindrome (same forwards as backwards)"
      ]
    },
    {
      "cell_type": "code",
      "metadata": {
        "id": "TE2AYf0woqbB",
        "colab_type": "code",
        "colab": {
          "base_uri": "https://localhost:8080/",
          "height": 51
        },
        "outputId": "0b563291-febe-4863-b2be-3e204930b317"
      },
      "source": [
        "def Palindrome(s): \n",
        "      \n",
        "    rev = ''.join(reversed(s)) \n",
        "  \n",
        "    if (s == rev): \n",
        "        return True\n",
        "    return False\n",
        "\n",
        "s = str(input(\"Enter Word :\"))\n",
        "ans = Palindrome(s) \n",
        "  \n",
        "if (ans): \n",
        "    print(\"True\") \n",
        "else: \n",
        "    print(\"False\") "
      ],
      "execution_count": null,
      "outputs": [
        {
          "output_type": "stream",
          "text": [
            "Enter Word :hatch\n",
            "False\n"
          ],
          "name": "stdout"
        }
      ]
    },
    {
      "cell_type": "markdown",
      "metadata": {
        "id": "wmkAgjocvKgh",
        "colab_type": "text"
      },
      "source": [
        "Write a function, called my_sort, which takes a list of numbers as input and returns the values sorted from smallest to largest"
      ]
    },
    {
      "cell_type": "code",
      "metadata": {
        "id": "UUoEkvjpsG7O",
        "colab_type": "code",
        "colab": {
          "base_uri": "https://localhost:8080/",
          "height": 34
        },
        "outputId": "90807a8f-b357-4c8f-8cb7-f271d2824272"
      },
      "source": [
        "  data_list = [1,5,8,9,14,13,17,12,20,10, 0]\n",
        "  new_list = []\n",
        "\n",
        "  while data_list:\n",
        "    minimum = data_list [0]\n",
        "    for x in data_list:\n",
        "      if x < minimum:\n",
        "        minimum = x\n",
        "        \n",
        "    new_list.append(minimum)\n",
        "    data_list.remove(minimum)\n",
        "\n",
        "print(new_list)"
      ],
      "execution_count": null,
      "outputs": [
        {
          "output_type": "stream",
          "text": [
            "[0, 1, 5, 8, 9, 10, 12, 13, 14, 17, 20]\n"
          ],
          "name": "stdout"
        }
      ]
    },
    {
      "cell_type": "markdown",
      "metadata": {
        "id": "8emHA3232H3r",
        "colab_type": "text"
      },
      "source": [
        "Create a function called my_power which raises the first number to the power of the second number. The second number should default to 2 if nothing else is given."
      ]
    },
    {
      "cell_type": "code",
      "metadata": {
        "id": "5WVWUbOyyJm4",
        "colab_type": "code",
        "colab": {}
      },
      "source": [
        ""
      ],
      "execution_count": null,
      "outputs": []
    },
    {
      "cell_type": "markdown",
      "metadata": {
        "id": "Eg5tNU4I2QwB",
        "colab_type": "text"
      },
      "source": [
        "Write a function, called my_sum, which adds an set (of unknown lenght) of number together.\n",
        "Don't use the built-in sum function or numpy's sum funciton"
      ]
    },
    {
      "cell_type": "code",
      "metadata": {
        "id": "stTq7Z5w2Sxi",
        "colab_type": "code",
        "colab": {
          "base_uri": "https://localhost:8080/",
          "height": 333
        },
        "outputId": "08ac2afb-e2dd-4a33-df6a-6e978ede3a72"
      },
      "source": [
        "def my_sum(n):\n",
        "  summ = 0\n",
        "  a = int(input(\"Enter Number :\"))\n",
        "  for n in a:\n",
        "    if summ == a:\n",
        "      summ += n\n",
        "    return summ\n",
        "\n",
        "\n",
        "print(my_sum(a))\n"
      ],
      "execution_count": null,
      "outputs": [
        {
          "output_type": "stream",
          "text": [
            "Enter Number :1,2,4\n"
          ],
          "name": "stdout"
        },
        {
          "output_type": "error",
          "ename": "ValueError",
          "evalue": "ignored",
          "traceback": [
            "\u001b[0;31m---------------------------------------------------------------------------\u001b[0m",
            "\u001b[0;31mValueError\u001b[0m                                Traceback (most recent call last)",
            "\u001b[0;32m<ipython-input-42-f35733c83731>\u001b[0m in \u001b[0;36m<module>\u001b[0;34m()\u001b[0m\n\u001b[1;32m      8\u001b[0m \u001b[0;34m\u001b[0m\u001b[0m\n\u001b[1;32m      9\u001b[0m \u001b[0;34m\u001b[0m\u001b[0m\n\u001b[0;32m---> 10\u001b[0;31m \u001b[0mprint\u001b[0m\u001b[0;34m(\u001b[0m\u001b[0mmy_sum\u001b[0m\u001b[0;34m(\u001b[0m\u001b[0ma\u001b[0m\u001b[0;34m)\u001b[0m\u001b[0;34m)\u001b[0m\u001b[0;34m\u001b[0m\u001b[0;34m\u001b[0m\u001b[0m\n\u001b[0m",
            "\u001b[0;32m<ipython-input-42-f35733c83731>\u001b[0m in \u001b[0;36mmy_sum\u001b[0;34m(n)\u001b[0m\n\u001b[1;32m      1\u001b[0m \u001b[0;32mdef\u001b[0m \u001b[0mmy_sum\u001b[0m\u001b[0;34m(\u001b[0m\u001b[0mn\u001b[0m\u001b[0;34m)\u001b[0m\u001b[0;34m:\u001b[0m\u001b[0;34m\u001b[0m\u001b[0;34m\u001b[0m\u001b[0m\n\u001b[1;32m      2\u001b[0m   \u001b[0msumm\u001b[0m \u001b[0;34m=\u001b[0m \u001b[0;36m0\u001b[0m\u001b[0;34m\u001b[0m\u001b[0;34m\u001b[0m\u001b[0m\n\u001b[0;32m----> 3\u001b[0;31m   \u001b[0ma\u001b[0m \u001b[0;34m=\u001b[0m \u001b[0mint\u001b[0m\u001b[0;34m(\u001b[0m\u001b[0minput\u001b[0m\u001b[0;34m(\u001b[0m\u001b[0;34m\"Enter Number :\"\u001b[0m\u001b[0;34m)\u001b[0m\u001b[0;34m)\u001b[0m\u001b[0;34m\u001b[0m\u001b[0;34m\u001b[0m\u001b[0m\n\u001b[0m\u001b[1;32m      4\u001b[0m   \u001b[0;32mfor\u001b[0m \u001b[0mn\u001b[0m \u001b[0;32min\u001b[0m \u001b[0ma\u001b[0m\u001b[0;34m:\u001b[0m\u001b[0;34m\u001b[0m\u001b[0;34m\u001b[0m\u001b[0m\n\u001b[1;32m      5\u001b[0m     \u001b[0;32mif\u001b[0m \u001b[0msumm\u001b[0m \u001b[0;34m==\u001b[0m \u001b[0ma\u001b[0m\u001b[0;34m:\u001b[0m\u001b[0;34m\u001b[0m\u001b[0;34m\u001b[0m\u001b[0m\n",
            "\u001b[0;31mValueError\u001b[0m: invalid literal for int() with base 10: '1,2,4'"
          ]
        }
      ]
    },
    {
      "cell_type": "code",
      "metadata": {
        "id": "dR0aMvZB3-nu",
        "colab_type": "code",
        "colab": {}
      },
      "source": [
        ""
      ],
      "execution_count": null,
      "outputs": []
    }
  ]
}