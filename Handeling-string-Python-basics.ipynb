{
  "nbformat": 4,
  "nbformat_minor": 0,
  "metadata": {
    "colab": {
      "name": "Assignment-3_Nikhil.ipynb",
      "provenance": [],
      "collapsed_sections": []
    },
    "kernelspec": {
      "name": "python3",
      "display_name": "Python 3"
    }
  },
  "cells": [
    {
      "cell_type": "markdown",
      "metadata": {
        "id": "ueEk4UxopQFJ",
        "colab_type": "text"
      },
      "source": [
        "Create and print a string that says: Harry Potter and the Sorcerer's Stone"
      ]
    },
    {
      "cell_type": "code",
      "metadata": {
        "id": "pydfsgdtpO0_",
        "colab_type": "code",
        "colab": {
          "base_uri": "https://localhost:8080/",
          "height": 34
        },
        "outputId": "930548df-cc12-46c4-cebd-c8b8e47185c0"
      },
      "source": [
        "string_a = \"Harry Potter and the Sorcerer's Stone\"\n",
        "print(string_a)"
      ],
      "execution_count": null,
      "outputs": [
        {
          "output_type": "stream",
          "text": [
            "Harry Potter and the Sorcerer's Stone\n"
          ],
          "name": "stdout"
        }
      ]
    },
    {
      "cell_type": "markdown",
      "metadata": {
        "id": "DGjuMmfgp1QP",
        "colab_type": "text"
      },
      "source": [
        "Create and print a string that says: “Ah, music,\" he said, wiping his eyes. \"A magic beyond all we do here!”"
      ]
    },
    {
      "cell_type": "code",
      "metadata": {
        "id": "hTZYd77mpeWP",
        "colab_type": "code",
        "colab": {
          "base_uri": "https://localhost:8080/",
          "height": 34
        },
        "outputId": "52f88430-8341-427a-9cd9-acd98c8205a8"
      },
      "source": [
        "string_b = \"\"\"“Ah, music,\" he said, wiping his eyes. \"A magic beyond all we do here!”\"\"\"\n",
        "print(string_b)"
      ],
      "execution_count": null,
      "outputs": [
        {
          "output_type": "stream",
          "text": [
            "“Ah, music,\" he said, wiping his eyes. \"A magic beyond all we do here!”\n"
          ],
          "name": "stdout"
        }
      ]
    },
    {
      "cell_type": "markdown",
      "metadata": {
        "id": "Ba6h3Mz8qQjL",
        "colab_type": "text"
      },
      "source": [
        "Create and print a string that says: Hagrid said, “You're a wizard, Harry.\""
      ]
    },
    {
      "cell_type": "code",
      "metadata": {
        "id": "mitI2WRiqRdX",
        "colab_type": "code",
        "colab": {
          "base_uri": "https://localhost:8080/",
          "height": 34
        },
        "outputId": "4ecd7677-db3f-4bc5-fc85-e5f5b368e45f"
      },
      "source": [
        "string_c = 'Hagrid said, “You\\'re a wizard, Harry.\"'\n",
        "print(string_c)"
      ],
      "execution_count": null,
      "outputs": [
        {
          "output_type": "stream",
          "text": [
            "Hagrid said, “You're a wizard, Harry.\"\n"
          ],
          "name": "stdout"
        }
      ]
    },
    {
      "cell_type": "markdown",
      "metadata": {
        "id": "EyTkCo7TrGv5",
        "colab_type": "text"
      },
      "source": [
        "Create and print a string that includes a tap character, a carriage return, and a the octal value of 176 along with anything else you want"
      ]
    },
    {
      "cell_type": "code",
      "metadata": {
        "id": "-d7w-ZmhqB5W",
        "colab_type": "code",
        "colab": {}
      },
      "source": [
        ""
      ],
      "execution_count": null,
      "outputs": []
    },
    {
      "cell_type": "markdown",
      "metadata": {
        "id": "mHljJpuZruF4",
        "colab_type": "text"
      },
      "source": [
        "Using only the provided strings, print the following statement: Mr. and Mrs. Dursley, of number four Privet Drive, were proud to say that they were perfectly normal, thank you very much."
      ]
    },
    {
      "cell_type": "code",
      "metadata": {
        "id": "LYH-MU8_rvbd",
        "colab_type": "code",
        "colab": {}
      },
      "source": [
        "string_a = 'Mr. and Mrs. Dursley'\n",
        "string_b = \"thank you very much.\"\n",
        "string_c = 'of number four Privet Drive' \n",
        "string_d = 'were proud to say that they were perfectly normal'\n",
        "comma_space = ', '"
      ],
      "execution_count": null,
      "outputs": []
    },
    {
      "cell_type": "code",
      "metadata": {
        "id": "t4wEdqeLryDI",
        "colab_type": "code",
        "colab": {
          "base_uri": "https://localhost:8080/",
          "height": 34
        },
        "outputId": "1f054e75-a587-419a-b999-b8ec9a3b27b2"
      },
      "source": [
        "my_str = string_a+comma_space+string_c+string_d+comma_space+string_b\n",
        "print(my_str)"
      ],
      "execution_count": null,
      "outputs": [
        {
          "output_type": "stream",
          "text": [
            "Mr. and Mrs. Dursley, of number four Privet Drivewere proud to say that they were perfectly normal, thank you very much.\n"
          ],
          "name": "stdout"
        }
      ]
    },
    {
      "cell_type": "markdown",
      "metadata": {
        "id": "eyHhBXF9s-o6",
        "colab_type": "text"
      },
      "source": [
        "Without changing any of the strings, or adding more to the last line, print out: jingle bells, jingle bells, jingle all the way"
      ]
    },
    {
      "cell_type": "code",
      "metadata": {
        "id": "rKdwJvCbr_XE",
        "colab_type": "code",
        "colab": {
          "base_uri": "https://localhost:8080/",
          "height": 34
        },
        "outputId": "614afb71-758e-4242-ecf1-9d99419746bc"
      },
      "source": [
        "jingle = 'jingle bells, '\n",
        "all_the_way = 'jingle all the way'\n",
        "\n",
        "a = jingle+jingle+all_the_way\n",
        "\n",
        "print(a)"
      ],
      "execution_count": null,
      "outputs": [
        {
          "output_type": "stream",
          "text": [
            "jingle bells, jingle bells, jingle all the way\n"
          ],
          "name": "stdout"
        }
      ]
    },
    {
      "cell_type": "markdown",
      "metadata": {
        "id": "376izYIptfih",
        "colab_type": "text"
      },
      "source": [
        "Print the reverse of string_a"
      ]
    },
    {
      "cell_type": "code",
      "metadata": {
        "id": "gyj38DOPtNtE",
        "colab_type": "code",
        "colab": {
          "base_uri": "https://localhost:8080/",
          "height": 34
        },
        "outputId": "791a7c40-71a5-440a-da44-85f3381ff567"
      },
      "source": [
        "string_a = 'Python is very FUN to learn nirupam.sharma@enginegroup.com is the answer'[::-1]\n",
        "string_a"
      ],
      "execution_count": null,
      "outputs": [
        {
          "output_type": "execute_result",
          "data": {
            "text/plain": [
              "'rewsna eht si moc.puorgenigne@amrahs.mapurin nrael ot NUF yrev si nohtyP'"
            ]
          },
          "metadata": {
            "tags": []
          },
          "execution_count": 22
        }
      ]
    },
    {
      "cell_type": "markdown",
      "metadata": {
        "id": "_rY7y1YC4tJx",
        "colab_type": "text"
      },
      "source": [
        "Make the last line print only the odd numbers"
      ]
    },
    {
      "cell_type": "code",
      "metadata": {
        "id": "pvpqDoN6toKa",
        "colab_type": "code",
        "colab": {}
      },
      "source": [
        "digits = '0123456789'\n",
        "digits_list = list(digits)"
      ],
      "execution_count": null,
      "outputs": []
    },
    {
      "cell_type": "code",
      "metadata": {
        "id": "kZ0hRuvX-IuU",
        "colab_type": "code",
        "colab": {
          "base_uri": "https://localhost:8080/",
          "height": 34
        },
        "outputId": "d6f52878-9415-41c6-b329-393f5047e591"
      },
      "source": [
        "digits_list"
      ],
      "execution_count": null,
      "outputs": [
        {
          "output_type": "execute_result",
          "data": {
            "text/plain": [
              "['0', '1', '2', '3', '4', '5', '6', '7', '8', '9']"
            ]
          },
          "metadata": {
            "tags": []
          },
          "execution_count": 2
        }
      ]
    },
    {
      "cell_type": "code",
      "metadata": {
        "id": "oPdE5-1n40Fz",
        "colab_type": "code",
        "colab": {
          "base_uri": "https://localhost:8080/",
          "height": 197
        },
        "outputId": "225b7a0e-8613-451f-a980-564f8b590a7b"
      },
      "source": [
        "for num in digits_list:\n",
        "  if num % 2 ==0:\n",
        "    print(num, end=\" \")"
      ],
      "execution_count": null,
      "outputs": [
        {
          "output_type": "error",
          "ename": "TypeError",
          "evalue": "ignored",
          "traceback": [
            "\u001b[0;31m---------------------------------------------------------------------------\u001b[0m",
            "\u001b[0;31mTypeError\u001b[0m                                 Traceback (most recent call last)",
            "\u001b[0;32m<ipython-input-4-9dd0d3a59335>\u001b[0m in \u001b[0;36m<module>\u001b[0;34m()\u001b[0m\n\u001b[1;32m      1\u001b[0m \u001b[0;32mfor\u001b[0m \u001b[0mnum\u001b[0m \u001b[0;32min\u001b[0m \u001b[0mdigits_list\u001b[0m\u001b[0;34m:\u001b[0m\u001b[0;34m\u001b[0m\u001b[0;34m\u001b[0m\u001b[0m\n\u001b[0;32m----> 2\u001b[0;31m   \u001b[0;32mif\u001b[0m \u001b[0mnum\u001b[0m \u001b[0;34m%\u001b[0m \u001b[0;36m2\u001b[0m \u001b[0;34m==\u001b[0m\u001b[0;36m0\u001b[0m\u001b[0;34m:\u001b[0m\u001b[0;34m\u001b[0m\u001b[0;34m\u001b[0m\u001b[0m\n\u001b[0m\u001b[1;32m      3\u001b[0m     \u001b[0mprint\u001b[0m\u001b[0;34m(\u001b[0m\u001b[0mnum\u001b[0m\u001b[0;34m,\u001b[0m \u001b[0mend\u001b[0m\u001b[0;34m=\u001b[0m\u001b[0;34m\" \"\u001b[0m\u001b[0;34m)\u001b[0m\u001b[0;34m\u001b[0m\u001b[0;34m\u001b[0m\u001b[0m\n",
            "\u001b[0;31mTypeError\u001b[0m: not all arguments converted during string formatting"
          ]
        }
      ]
    },
    {
      "cell_type": "markdown",
      "metadata": {
        "id": "F7KxtYjMiypx",
        "colab_type": "text"
      },
      "source": [
        "Using the provided sting, print only the first 3 word of the sentance"
      ]
    },
    {
      "cell_type": "code",
      "metadata": {
        "id": "ssgVA_Dz8P61",
        "colab_type": "code",
        "colab": {
          "base_uri": "https://localhost:8080/",
          "height": 34
        },
        "outputId": "a1aec307-138b-489f-b95e-6a776a667a0e"
      },
      "source": [
        "string_a = 'It\\'s wingardium leviOsa, not leviosAH'\n",
        "\n",
        "print('First Three words are:',string_a[:23])"
      ],
      "execution_count": null,
      "outputs": [
        {
          "output_type": "stream",
          "text": [
            "First Three words are: It's wingardium leviOsa\n"
          ],
          "name": "stdout"
        }
      ]
    },
    {
      "cell_type": "markdown",
      "metadata": {
        "id": "pUhrgUcJldAC",
        "colab_type": "text"
      },
      "source": [
        "Using only the provided string, print: It's wingardium leviosAH"
      ]
    },
    {
      "cell_type": "code",
      "metadata": {
        "id": "eQH_TM9Mi6uW",
        "colab_type": "code",
        "colab": {
          "base_uri": "https://localhost:8080/",
          "height": 34
        },
        "outputId": "aa0e03c4-5de6-4b31-ba14-58aaafc37feb"
      },
      "source": [
        "string_a = \"It's wingardium leviOsa, not leviosAH\"[:23]\n",
        "print(string_a)\n"
      ],
      "execution_count": null,
      "outputs": [
        {
          "output_type": "stream",
          "text": [
            "It's wingardium leviOsa\n"
          ],
          "name": "stdout"
        }
      ]
    },
    {
      "cell_type": "code",
      "metadata": {
        "id": "Clk-UOPDjDoY",
        "colab_type": "code",
        "colab": {
          "base_uri": "https://localhost:8080/",
          "height": 34
        },
        "outputId": "ce21d6de-844e-4912-cf73-a132cbaa9284"
      },
      "source": [
        "#x = string_a.find(\"It's wingardium leviOsa,\")\n",
        "\n",
        "#print(x)"
      ],
      "execution_count": null,
      "outputs": [
        {
          "output_type": "stream",
          "text": [
            "0\n"
          ],
          "name": "stdout"
        }
      ]
    },
    {
      "cell_type": "markdown",
      "metadata": {
        "id": "vAuLeugjpL_r",
        "colab_type": "text"
      },
      "source": [
        "Using only the provided stings, print out: You're a wizard, Harry. (note that the H is capitalized here)"
      ]
    },
    {
      "cell_type": "code",
      "metadata": {
        "id": "09hNVk33oDTv",
        "colab_type": "code",
        "colab": {
          "base_uri": "https://localhost:8080/",
          "height": 34
        },
        "outputId": "9e4c81be-3a30-47c1-bcf4-ad61f8f8a61a"
      },
      "source": [
        "string_a = \"You're a wizard, harry.\"\n",
        "h = 'H'\n",
        "string_a"
      ],
      "execution_count": null,
      "outputs": [
        {
          "output_type": "execute_result",
          "data": {
            "text/plain": [
              "\"You're a wizard, harry.\""
            ]
          },
          "metadata": {
            "tags": []
          },
          "execution_count": 28
        }
      ]
    },
    {
      "cell_type": "markdown",
      "metadata": {
        "id": "5FD19w6Ipwnb",
        "colab_type": "text"
      },
      "source": [
        "Print out the lenght of the following string"
      ]
    },
    {
      "cell_type": "code",
      "metadata": {
        "id": "TDIF0AooiIec",
        "colab_type": "code",
        "colab": {}
      },
      "source": [
        "string_a = 'Hogwarts, Hogwarts, Hoggy Warty Hogwarts, Teach us something please, Whether we be old and bald Or young with scabby knees, Our heads could do with filling With some interesting stuff, For now they’re bare and full of air, Dead flies and bits of fluff, So teach us things worth knowing, Bring back what we’ve forgot, Just do your best, we’ll do the rest, And learn until our brains all rot.'"
      ],
      "execution_count": null,
      "outputs": []
    },
    {
      "cell_type": "code",
      "metadata": {
        "id": "E9o02H1Ep5aA",
        "colab_type": "code",
        "colab": {
          "base_uri": "https://localhost:8080/",
          "height": 34
        },
        "outputId": "cc429149-85e1-4c3b-fb8f-ac3dbc311de2"
      },
      "source": [
        "len(string_a)"
      ],
      "execution_count": null,
      "outputs": [
        {
          "output_type": "execute_result",
          "data": {
            "text/plain": [
              "23"
            ]
          },
          "metadata": {
            "tags": []
          },
          "execution_count": 31
        }
      ]
    },
    {
      "cell_type": "markdown",
      "metadata": {
        "id": "ZY5oSl3PqKe_",
        "colab_type": "text"
      },
      "source": [
        "Find the first instance of knees in the following string"
      ]
    },
    {
      "cell_type": "code",
      "metadata": {
        "id": "SbidDUx5iIe8",
        "colab_type": "code",
        "colab": {}
      },
      "source": [
        "string_new = 'Hogwarts, Hogwarts, Hoggy Warty Hogwarts, Teach us something please, Whether we be old and bald Or young with scabby knees, Our heads could do with filling With some interesting stuff, For now they’re bare and full of air, Dead flies and bits of fluff, So teach us things worth knowing, Bring back what we’ve forgot, Just do your best, we’ll do the rest, And learn until our brains all rot.'"
      ],
      "execution_count": null,
      "outputs": []
    },
    {
      "cell_type": "code",
      "metadata": {
        "id": "FitFjGHCqS_I",
        "colab_type": "code",
        "colab": {
          "base_uri": "https://localhost:8080/",
          "height": 34
        },
        "outputId": "9220de63-7aa3-45de-f53c-a6253de395d5"
      },
      "source": [
        "string_new.find('knees')"
      ],
      "execution_count": null,
      "outputs": [
        {
          "output_type": "execute_result",
          "data": {
            "text/plain": [
              "117"
            ]
          },
          "metadata": {
            "tags": []
          },
          "execution_count": 34
        }
      ]
    },
    {
      "cell_type": "markdown",
      "metadata": {
        "id": "wH3vB3UYq4aC",
        "colab_type": "text"
      },
      "source": [
        "Find the first instance of tseb in the following string, when the string is reversed"
      ]
    },
    {
      "cell_type": "code",
      "metadata": {
        "id": "Cko7XyaZqXxV",
        "colab_type": "code",
        "colab": {}
      },
      "source": [
        "string_ts = 'Hogwarts, Hogwarts, Hoggy Warty Hogwarts, Teach us something please, Whether we be old and bald Or young with scabby knees, Our heads could do with filling With some interesting stuff, For now they’re bare and full of air, Dead flies and bits of fluff, So teach us things worth knowing, Bring back what we’ve forgot, Just do your best, we’ll do the rest, And learn until our brains all rot.'"
      ],
      "execution_count": null,
      "outputs": []
    },
    {
      "cell_type": "code",
      "metadata": {
        "id": "JjHwpm3NrAK2",
        "colab_type": "code",
        "colab": {
          "base_uri": "https://localhost:8080/",
          "height": 54
        },
        "outputId": "cf1199bb-297e-4a99-dc32-3bfffc57a235"
      },
      "source": [
        "string_rev = string_ts[::-1]\n",
        "string_rev"
      ],
      "execution_count": null,
      "outputs": [
        {
          "output_type": "execute_result",
          "data": {
            "text/plain": [
              "'.tor lla sniarb ruo litnu nrael dnA ,tser eht od ll’ew ,tseb ruoy od tsuJ ,togrof ev’ew tahw kcab gnirB ,gniwonk htrow sgniht su hcaet oS ,ffulf fo stib dna seilf daeD ,ria fo lluf dna erab er’yeht won roF ,ffuts gnitseretni emos htiW gnillif htiw od dluoc sdaeh ruO ,seenk ybbacs htiw gnuoy rO dlab dna dlo eb ew rehtehW ,esaelp gnihtemos su hcaeT ,strawgoH ytraW yggoH ,strawgoH ,strawgoH'"
            ]
          },
          "metadata": {
            "tags": []
          },
          "execution_count": 55
        }
      ]
    },
    {
      "cell_type": "code",
      "metadata": {
        "id": "6_icdiH0rGOZ",
        "colab_type": "code",
        "colab": {
          "base_uri": "https://localhost:8080/",
          "height": 34
        },
        "outputId": "376a7df8-0d06-4389-b891-48b699cb0910"
      },
      "source": [
        "string_rev.find('tseb')"
      ],
      "execution_count": null,
      "outputs": [
        {
          "output_type": "execute_result",
          "data": {
            "text/plain": [
              "56"
            ]
          },
          "metadata": {
            "tags": []
          },
          "execution_count": 54
        }
      ]
    },
    {
      "cell_type": "markdown",
      "metadata": {
        "id": "5Io-pumIsb_C",
        "colab_type": "text"
      },
      "source": [
        "Determine if the string harry is in the following string`"
      ]
    },
    {
      "cell_type": "code",
      "metadata": {
        "id": "jC50UlLhrPpU",
        "colab_type": "code",
        "colab": {}
      },
      "source": [
        "string_hry = 'Hogwarts, Hogwarts, Hoggy Warty Hogwarts, Teach us something please, Whether we be old and bald Or young with scabby knees, Our heads could do with filling With some interesting stuff, For now they’re bare and full of air, Dead flies and bits of fluff, So teach us things worth knowing, Bring back what we’ve forgot, Just do your best, we’ll do the rest, And learn until our brains all rot.'"
      ],
      "execution_count": null,
      "outputs": []
    },
    {
      "cell_type": "code",
      "metadata": {
        "id": "LDDmn7CBskpX",
        "colab_type": "code",
        "colab": {
          "base_uri": "https://localhost:8080/",
          "height": 34
        },
        "outputId": "4904246c-1682-4e22-a8af-63e2481113c6"
      },
      "source": [
        "string_hry.find('harry')"
      ],
      "execution_count": null,
      "outputs": [
        {
          "output_type": "execute_result",
          "data": {
            "text/plain": [
              "-1"
            ]
          },
          "metadata": {
            "tags": []
          },
          "execution_count": 61
        }
      ]
    },
    {
      "cell_type": "markdown",
      "metadata": {
        "id": "2U8H_x0lt3Vr",
        "colab_type": "text"
      },
      "source": [
        "Replace all e's with 3's in the following sting"
      ]
    },
    {
      "cell_type": "code",
      "metadata": {
        "id": "3JqXmumqst28",
        "colab_type": "code",
        "colab": {}
      },
      "source": [
        "string_rpl = 'Hogwarts, Hogwarts, Hoggy Warty Hogwarts, Teach us something please, Whether we be old and bald Or young with scabby knees, Our heads could do with filling With some interesting stuff, For now they’re bare and full of air, Dead flies and bits of fluff, So teach us things worth knowing, Bring back what we’ve forgot, Just do your best, we’ll do the rest, And learn until our brains all rot.'"
      ],
      "execution_count": null,
      "outputs": []
    },
    {
      "cell_type": "code",
      "metadata": {
        "id": "h6cLXw31t-QU",
        "colab_type": "code",
        "colab": {
          "base_uri": "https://localhost:8080/",
          "height": 54
        },
        "outputId": "77bbec92-2797-4a17-ebe9-29976ff08ca0"
      },
      "source": [
        "string_rpl.replace(\"e\",\"3\")"
      ],
      "execution_count": null,
      "outputs": [
        {
          "output_type": "execute_result",
          "data": {
            "text/plain": [
              "'Hogwarts, Hogwarts, Hoggy Warty Hogwarts, T3ach us som3thing pl3as3, Wh3th3r w3 b3 old and bald Or young with scabby kn33s, Our h3ads could do with filling With som3 int3r3sting stuff, For now th3y’r3 bar3 and full of air, D3ad fli3s and bits of fluff, So t3ach us things worth knowing, Bring back what w3’v3 forgot, Just do your b3st, w3’ll do th3 r3st, And l3arn until our brains all rot.'"
            ]
          },
          "metadata": {
            "tags": []
          },
          "execution_count": 65
        }
      ]
    },
    {
      "cell_type": "markdown",
      "metadata": {
        "id": "ch206Wzcu-7u",
        "colab_type": "text"
      },
      "source": [
        "Split up the following string by its commas"
      ]
    },
    {
      "cell_type": "code",
      "metadata": {
        "id": "C7uAaon5uxIm",
        "colab_type": "code",
        "colab": {}
      },
      "source": [
        "string_spl = 'Hogwarts, Hogwarts, Hoggy Warty Hogwarts, Teach us something please, Whether we be old and bald Or young with scabby knees, Our heads could do with filling With some interesting stuff, For now they’re bare and full of air, Dead flies and bits of fluff, So teach us things worth knowing, Bring back what we’ve forgot, Just do your best, we’ll do the rest, And learn until our brains all rot.'"
      ],
      "execution_count": null,
      "outputs": []
    },
    {
      "cell_type": "code",
      "metadata": {
        "id": "IeHKxSEVvIzN",
        "colab_type": "code",
        "colab": {
          "base_uri": "https://localhost:8080/",
          "height": 54
        },
        "outputId": "9eeaaeb7-015f-4d76-c2ec-3f8ff81dba1d"
      },
      "source": [
        "print(string_spl.split(\",\"))"
      ],
      "execution_count": null,
      "outputs": [
        {
          "output_type": "stream",
          "text": [
            "['Hogwarts', ' Hogwarts', ' Hoggy Warty Hogwarts', ' Teach us something please', ' Whether we be old and bald Or young with scabby knees', ' Our heads could do with filling With some interesting stuff', ' For now they’re bare and full of air', ' Dead flies and bits of fluff', ' So teach us things worth knowing', ' Bring back what we’ve forgot', ' Just do your best', ' we’ll do the rest', ' And learn until our brains all rot.']\n"
          ],
          "name": "stdout"
        }
      ]
    },
    {
      "cell_type": "markdown",
      "metadata": {
        "id": "4-ARBWSPvtzD",
        "colab_type": "text"
      },
      "source": [
        "Add the two values in the strings together to get 45"
      ]
    },
    {
      "cell_type": "code",
      "metadata": {
        "id": "-q8UehQ4vNVh",
        "colab_type": "code",
        "colab": {}
      },
      "source": [
        "eleven = '11'\n",
        "elv = int(eleven)\n",
        "thirty_four = '34'\n",
        "thr = int(thirty_four)"
      ],
      "execution_count": null,
      "outputs": []
    },
    {
      "cell_type": "code",
      "metadata": {
        "id": "S3IRkrLUwFNs",
        "colab_type": "code",
        "colab": {
          "base_uri": "https://localhost:8080/",
          "height": 34
        },
        "outputId": "d88d11a3-8bc4-42ea-f5a7-4cb2015d3959"
      },
      "source": [
        "add_str = elv + thr\n",
        "add_str"
      ],
      "execution_count": null,
      "outputs": [
        {
          "output_type": "execute_result",
          "data": {
            "text/plain": [
              "45"
            ]
          },
          "metadata": {
            "tags": []
          },
          "execution_count": 77
        }
      ]
    },
    {
      "cell_type": "markdown",
      "metadata": {
        "id": "C-vuDXepw959",
        "colab_type": "text"
      },
      "source": [
        "Make the provided string all uppercase and print the result"
      ]
    },
    {
      "cell_type": "code",
      "metadata": {
        "id": "FeBxG0ebwH0p",
        "colab_type": "code",
        "colab": {
          "base_uri": "https://localhost:8080/",
          "height": 34
        },
        "outputId": "c8e24457-b0ff-4bd2-e70c-df6a69bf6dac"
      },
      "source": [
        "string_harry_1 = \"Harry Potter and the Sorcerer's Stone\".upper()\n",
        "string_harry_1"
      ],
      "execution_count": null,
      "outputs": [
        {
          "output_type": "execute_result",
          "data": {
            "text/plain": [
              "\"HARRY POTTER AND THE SORCERER'S STONE\""
            ]
          },
          "metadata": {
            "tags": []
          },
          "execution_count": 2
        }
      ]
    },
    {
      "cell_type": "markdown",
      "metadata": {
        "id": "pBuPgTA2xOgY",
        "colab_type": "text"
      },
      "source": [
        "Make the provided sting all lowercase and print the result"
      ]
    },
    {
      "cell_type": "code",
      "metadata": {
        "id": "VoCwMt5dxFVt",
        "colab_type": "code",
        "colab": {
          "base_uri": "https://localhost:8080/",
          "height": 34
        },
        "outputId": "905d5737-62df-4b4e-e19f-52dd6f9759ad"
      },
      "source": [
        "string_harry_2 = \"Harry Potter and the Sorcerer's Stone\".lower()\n",
        "string_harry_2"
      ],
      "execution_count": null,
      "outputs": [
        {
          "output_type": "execute_result",
          "data": {
            "text/plain": [
              "\"harry potter and the sorcerer's stone\""
            ]
          },
          "metadata": {
            "tags": []
          },
          "execution_count": 3
        }
      ]
    },
    {
      "cell_type": "markdown",
      "metadata": {
        "id": "a3hRA3Zuxf4l",
        "colab_type": "text"
      },
      "source": [
        "Provide me two different examples of different string formatting methods and print the result"
      ]
    },
    {
      "cell_type": "code",
      "metadata": {
        "id": "XiWkaEVMxYDu",
        "colab_type": "code",
        "colab": {
          "base_uri": "https://localhost:8080/",
          "height": 34
        },
        "outputId": "924e0bd9-06b2-41a2-d64d-9bd29a737506"
      },
      "source": [
        "str_1 = \"My name is {}\".format(\"Nikhil\")"
      ],
      "execution_count": null,
      "outputs": [
        {
          "output_type": "execute_result",
          "data": {
            "text/plain": [
              "'My name is Nikhil'"
            ]
          },
          "metadata": {
            "tags": []
          },
          "execution_count": 6
        }
      ]
    },
    {
      "cell_type": "code",
      "metadata": {
        "id": "yZVP-sySx9d2",
        "colab_type": "code",
        "colab": {
          "base_uri": "https://localhost:8080/",
          "height": 34
        },
        "outputId": "7d904576-859e-474f-f463-5cc16c0fd6e4"
      },
      "source": [
        "str_2 = \"I'am {} year old\"\n",
        "\n",
        "print(str_2.format(25))"
      ],
      "execution_count": null,
      "outputs": [
        {
          "output_type": "stream",
          "text": [
            "I'am 25 year old\n"
          ],
          "name": "stdout"
        }
      ]
    },
    {
      "cell_type": "code",
      "metadata": {
        "id": "jxdYdOunyni8",
        "colab_type": "code",
        "colab": {}
      },
      "source": [
        ""
      ],
      "execution_count": null,
      "outputs": []
    }
  ]
}