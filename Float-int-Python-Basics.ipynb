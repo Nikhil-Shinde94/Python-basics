{
  "nbformat": 4,
  "nbformat_minor": 0,
  "metadata": {
    "colab": {
      "name": "assignment_1_Nikhil.ipynb",
      "provenance": [],
      "collapsed_sections": []
    },
    "kernelspec": {
      "name": "python3",
      "display_name": "Python 3"
    }
  },
  "cells": [
    {
      "cell_type": "markdown",
      "metadata": {
        "id": "AGFpX0Q6c-Nx",
        "colab_type": "text"
      },
      "source": [
        "What is the difference between a float and an int ?"
      ]
    },
    {
      "cell_type": "markdown",
      "metadata": {
        "id": "KvFoDa2rdFve",
        "colab_type": "text"
      },
      "source": [
        "Answer - Float values are the values which are having decimal values within it with numerical values, e.g 22.5, 22.00, 25.4 etc. whereas int values are the only numerical values e.g 4,55,88 etc."
      ]
    },
    {
      "cell_type": "markdown",
      "metadata": {
        "id": "TGEWoUKBeUiN",
        "colab_type": "text"
      },
      "source": [
        "Make the output of the folowing line equal to 149 only by manipulating the order of operations"
      ]
    },
    {
      "cell_type": "code",
      "metadata": {
        "id": "bquFvf6WfkdC",
        "colab_type": "code",
        "colab": {
          "base_uri": "https://localhost:8080/",
          "height": 35
        },
        "outputId": "f238b68a-001f-4e35-dc32-93d001eabe3e"
      },
      "source": [
        "(25 + 25 )"
      ],
      "execution_count": 1,
      "outputs": [
        {
          "output_type": "execute_result",
          "data": {
            "text/plain": [
              "50"
            ]
          },
          "metadata": {
            "tags": []
          },
          "execution_count": 1
        }
      ]
    },
    {
      "cell_type": "markdown",
      "metadata": {
        "id": "3FlZrah7fEg2",
        "colab_type": "text"
      },
      "source": [
        "Cause the following line to produce a float but still have the same result"
      ]
    },
    {
      "cell_type": "code",
      "metadata": {
        "id": "srbIeRIsgoxD",
        "colab_type": "code",
        "colab": {
          "base_uri": "https://localhost:8080/",
          "height": 34
        },
        "outputId": "33890757-25a7-4a5c-ae36-50cb747178f9"
      },
      "source": [
        "8+5 ##without float"
      ],
      "execution_count": null,
      "outputs": [
        {
          "output_type": "execute_result",
          "data": {
            "text/plain": [
              "13"
            ]
          },
          "metadata": {
            "tags": []
          },
          "execution_count": 2
        }
      ]
    },
    {
      "cell_type": "code",
      "metadata": {
        "id": "g-FdxIV_fTGN",
        "colab_type": "code",
        "colab": {
          "base_uri": "https://localhost:8080/",
          "height": 34
        },
        "outputId": "a5f50e11-8d6e-4fda-9437-bc0a0cf95a18"
      },
      "source": [
        "float(8+5) ##with float"
      ],
      "execution_count": null,
      "outputs": [
        {
          "output_type": "execute_result",
          "data": {
            "text/plain": [
              "13.0"
            ]
          },
          "metadata": {
            "tags": []
          },
          "execution_count": 1
        }
      ]
    },
    {
      "cell_type": "markdown",
      "metadata": {
        "id": "EoMU2xKSg4Ov",
        "colab_type": "text"
      },
      "source": [
        "Make it so the below statement prints an int instead of a float"
      ]
    },
    {
      "cell_type": "code",
      "metadata": {
        "id": "0nM4tYgug6s2",
        "colab_type": "code",
        "colab": {
          "base_uri": "https://localhost:8080/",
          "height": 34
        },
        "outputId": "d3219379-4447-4539-d10a-00f782481230"
      },
      "source": [
        "a = 4.5 +7.5\n",
        "print(a)"
      ],
      "execution_count": null,
      "outputs": [
        {
          "output_type": "stream",
          "text": [
            "12.0\n"
          ],
          "name": "stdout"
        }
      ]
    },
    {
      "cell_type": "code",
      "metadata": {
        "id": "qLltQ-SthDv9",
        "colab_type": "code",
        "colab": {
          "base_uri": "https://localhost:8080/",
          "height": 34
        },
        "outputId": "a2da9ded-9d49-4620-d2bb-4edfc6a0243d"
      },
      "source": [
        "a = 4.5 + 7.5\n",
        "print(\"The integer value is\",int(a))"
      ],
      "execution_count": null,
      "outputs": [
        {
          "output_type": "stream",
          "text": [
            "The integer value is 12\n"
          ],
          "name": "stdout"
        }
      ]
    },
    {
      "cell_type": "markdown",
      "metadata": {
        "id": "kkrwvOzwhc9J",
        "colab_type": "text"
      },
      "source": [
        "Fix the below code so you get the right result for a+b+c"
      ]
    },
    {
      "cell_type": "code",
      "metadata": {
        "id": "h9EAKoPAhf0l",
        "colab_type": "code",
        "colab": {
          "base_uri": "https://localhost:8080/",
          "height": 197
        },
        "outputId": "c470bfb6-8510-4487-b13f-bdc43b28c125"
      },
      "source": [
        "a = 4\n",
        "b = 10\n",
        "C = 5\n",
        "\n",
        "a + b + c"
      ],
      "execution_count": null,
      "outputs": [
        {
          "output_type": "error",
          "ename": "NameError",
          "evalue": "ignored",
          "traceback": [
            "\u001b[0;31m---------------------------------------------------------------------------\u001b[0m",
            "\u001b[0;31mNameError\u001b[0m                                 Traceback (most recent call last)",
            "\u001b[0;32m<ipython-input-7-62b9444753fa>\u001b[0m in \u001b[0;36m<module>\u001b[0;34m()\u001b[0m\n\u001b[1;32m      3\u001b[0m \u001b[0mC\u001b[0m \u001b[0;34m=\u001b[0m \u001b[0;36m5\u001b[0m\u001b[0;34m\u001b[0m\u001b[0;34m\u001b[0m\u001b[0m\n\u001b[1;32m      4\u001b[0m \u001b[0;34m\u001b[0m\u001b[0m\n\u001b[0;32m----> 5\u001b[0;31m \u001b[0ma\u001b[0m \u001b[0;34m+\u001b[0m \u001b[0mb\u001b[0m \u001b[0;34m+\u001b[0m \u001b[0mc\u001b[0m\u001b[0;34m\u001b[0m\u001b[0;34m\u001b[0m\u001b[0m\n\u001b[0m",
            "\u001b[0;31mNameError\u001b[0m: name 'c' is not defined"
          ]
        }
      ]
    },
    {
      "cell_type": "code",
      "metadata": {
        "id": "mLo8AGbChmkR",
        "colab_type": "code",
        "colab": {
          "base_uri": "https://localhost:8080/",
          "height": 34
        },
        "outputId": "f6fcf056-d9f4-455f-d2e3-b4d852123408"
      },
      "source": [
        "a = 4\n",
        "b = 10\n",
        "c = 5\n",
        "\n",
        "d = a+b+c\n",
        "print(d)"
      ],
      "execution_count": null,
      "outputs": [
        {
          "output_type": "stream",
          "text": [
            "19\n"
          ],
          "name": "stdout"
        }
      ]
    },
    {
      "cell_type": "markdown",
      "metadata": {
        "id": "mXsWkVUth9Aq",
        "colab_type": "text"
      },
      "source": [
        "Write code below to calculate the remainder after dividing 55 by 7"
      ]
    },
    {
      "cell_type": "code",
      "metadata": {
        "id": "xKWOCdqPiVK4",
        "colab_type": "code",
        "colab": {
          "base_uri": "https://localhost:8080/",
          "height": 34
        },
        "outputId": "932ffb77-1fca-46dd-dc32-f2058af74e4d"
      },
      "source": [
        "n = 55\n",
        "m = 7\n",
        "o = n%m\n",
        "print(\"The remainder is :\",o)"
      ],
      "execution_count": null,
      "outputs": [
        {
          "output_type": "stream",
          "text": [
            "The remainder is : 6\n"
          ],
          "name": "stdout"
        }
      ]
    },
    {
      "cell_type": "markdown",
      "metadata": {
        "id": "HPkVbaGnkSeW",
        "colab_type": "text"
      },
      "source": [
        "What is 2 raised to the 20th power?"
      ]
    },
    {
      "cell_type": "code",
      "metadata": {
        "id": "FLKMrcIYkUkx",
        "colab_type": "code",
        "colab": {
          "base_uri": "https://localhost:8080/",
          "height": 34
        },
        "outputId": "14206091-3b31-4951-ccd5-0560377e353e"
      },
      "source": [
        "powermult = 2**20\n",
        "print(\"The 2 raised to 20th power is :\",powermult)"
      ],
      "execution_count": null,
      "outputs": [
        {
          "output_type": "stream",
          "text": [
            "The 2 raised to 20th power is : 1048576\n"
          ],
          "name": "stdout"
        }
      ]
    },
    {
      "cell_type": "markdown",
      "metadata": {
        "id": "aODnhzt4k0wa",
        "colab_type": "text"
      },
      "source": [
        "Correct the error to make the following line of code return false"
      ]
    },
    {
      "cell_type": "code",
      "metadata": {
        "id": "yDAM-hRFk28I",
        "colab_type": "code",
        "colab": {
          "base_uri": "https://localhost:8080/",
          "height": 34
        },
        "outputId": "8870e703-6ae1-4887-c49d-e1aa4cd9bea6"
      },
      "source": [
        "a = 'false'\n",
        "\n",
        "bool(a)"
      ],
      "execution_count": null,
      "outputs": [
        {
          "output_type": "execute_result",
          "data": {
            "text/plain": [
              "True"
            ]
          },
          "metadata": {
            "tags": []
          },
          "execution_count": 17
        }
      ]
    },
    {
      "cell_type": "code",
      "metadata": {
        "id": "bNYtII6Rk91r",
        "colab_type": "code",
        "colab": {
          "base_uri": "https://localhost:8080/",
          "height": 34
        },
        "outputId": "28f0dbc1-3220-4282-df68-0429d3ea17e0"
      },
      "source": [
        "a = 'false'\n",
        "\n",
        "print(a)"
      ],
      "execution_count": null,
      "outputs": [
        {
          "output_type": "stream",
          "text": [
            "false\n"
          ],
          "name": "stdout"
        }
      ]
    },
    {
      "cell_type": "markdown",
      "metadata": {
        "id": "G0Mb3hezliW5",
        "colab_type": "text"
      },
      "source": [
        "Without deleting anything, make the code return True"
      ]
    },
    {
      "cell_type": "code",
      "metadata": {
        "id": "b558tr1ylj_J",
        "colab_type": "code",
        "colab": {
          "base_uri": "https://localhost:8080/",
          "height": 34
        },
        "outputId": "0e7cdec2-7b5f-4a1b-8682-353b6b6ca477"
      },
      "source": [
        "4 > 4"
      ],
      "execution_count": null,
      "outputs": [
        {
          "output_type": "execute_result",
          "data": {
            "text/plain": [
              "False"
            ]
          },
          "metadata": {
            "tags": []
          },
          "execution_count": 23
        }
      ]
    },
    {
      "cell_type": "code",
      "metadata": {
        "id": "rDYwGNzslqvt",
        "colab_type": "code",
        "colab": {
          "base_uri": "https://localhost:8080/",
          "height": 34
        },
        "outputId": "f02f8062-5513-41eb-e7a8-bf05a7b9263b"
      },
      "source": [
        "value = (4>=4)\n",
        "value"
      ],
      "execution_count": null,
      "outputs": [
        {
          "output_type": "execute_result",
          "data": {
            "text/plain": [
              "True"
            ]
          },
          "metadata": {
            "tags": []
          },
          "execution_count": 29
        }
      ]
    },
    {
      "cell_type": "markdown",
      "metadata": {
        "id": "JqHTvatQmLsL",
        "colab_type": "text"
      },
      "source": [
        "By only changing one symbol, make the folling code False"
      ]
    },
    {
      "cell_type": "code",
      "metadata": {
        "id": "8Zwtcsg8mOu3",
        "colab_type": "code",
        "colab": {
          "base_uri": "https://localhost:8080/",
          "height": 34
        },
        "outputId": "7a4d346f-6f58-4419-9300-c774e053d7aa"
      },
      "source": [
        "17 <= 24"
      ],
      "execution_count": null,
      "outputs": [
        {
          "output_type": "execute_result",
          "data": {
            "text/plain": [
              "True"
            ]
          },
          "metadata": {
            "tags": []
          },
          "execution_count": 30
        }
      ]
    },
    {
      "cell_type": "code",
      "metadata": {
        "id": "_4UsnPsDmUpd",
        "colab_type": "code",
        "colab": {
          "base_uri": "https://localhost:8080/",
          "height": 34
        },
        "outputId": "586a7aba-d08c-4953-ff37-97a085217ad6"
      },
      "source": [
        "17 >= 24"
      ],
      "execution_count": null,
      "outputs": [
        {
          "output_type": "execute_result",
          "data": {
            "text/plain": [
              "False"
            ]
          },
          "metadata": {
            "tags": []
          },
          "execution_count": 31
        }
      ]
    },
    {
      "cell_type": "markdown",
      "metadata": {
        "id": "dKekrIMDmdmP",
        "colab_type": "text"
      },
      "source": [
        "Make the following code False by adding a not"
      ]
    },
    {
      "cell_type": "code",
      "metadata": {
        "id": "b4JzkxzhmjNb",
        "colab_type": "code",
        "colab": {
          "base_uri": "https://localhost:8080/",
          "height": 34
        },
        "outputId": "0afc342e-d684-475d-c5a3-21d2ee9d4546"
      },
      "source": [
        "False or True"
      ],
      "execution_count": null,
      "outputs": [
        {
          "output_type": "execute_result",
          "data": {
            "text/plain": [
              "True"
            ]
          },
          "metadata": {
            "tags": []
          },
          "execution_count": 32
        }
      ]
    },
    {
      "cell_type": "code",
      "metadata": {
        "id": "lfiXh__jml29",
        "colab_type": "code",
        "colab": {
          "base_uri": "https://localhost:8080/",
          "height": 34
        },
        "outputId": "c1f45f9b-794c-4228-c455-47e56cd430ca"
      },
      "source": [
        "False and True"
      ],
      "execution_count": null,
      "outputs": [
        {
          "output_type": "execute_result",
          "data": {
            "text/plain": [
              "False"
            ]
          },
          "metadata": {
            "tags": []
          },
          "execution_count": 33
        }
      ]
    },
    {
      "cell_type": "code",
      "metadata": {
        "id": "25aYL92Gmv4Z",
        "colab_type": "code",
        "colab": {
          "base_uri": "https://localhost:8080/",
          "height": 34
        },
        "outputId": "6b993eab-d989-4ff1-bc6e-c4aa6053a359"
      },
      "source": [
        "False or not True"
      ],
      "execution_count": null,
      "outputs": [
        {
          "output_type": "execute_result",
          "data": {
            "text/plain": [
              "False"
            ]
          },
          "metadata": {
            "tags": []
          },
          "execution_count": 34
        }
      ]
    },
    {
      "cell_type": "markdown",
      "metadata": {
        "id": "1oMLFvqpm6LF",
        "colab_type": "text"
      },
      "source": [
        "Make the following statement False by adding parentheses"
      ]
    },
    {
      "cell_type": "code",
      "metadata": {
        "id": "psQ4mZmHm9pQ",
        "colab_type": "code",
        "colab": {
          "base_uri": "https://localhost:8080/",
          "height": 34
        },
        "outputId": "a1308e7d-7582-44c7-cfb8-14667bb913ae"
      },
      "source": [
        "False and not False or True and True"
      ],
      "execution_count": null,
      "outputs": [
        {
          "output_type": "execute_result",
          "data": {
            "text/plain": [
              "True"
            ]
          },
          "metadata": {
            "tags": []
          },
          "execution_count": 35
        }
      ]
    },
    {
      "cell_type": "code",
      "metadata": {
        "id": "zQ-mfnMMnEXs",
        "colab_type": "code",
        "colab": {
          "base_uri": "https://localhost:8080/",
          "height": 34
        },
        "outputId": "cfe75f34-7008-403c-c903-1e0f7cbdf019"
      },
      "source": [
        "False and not (False or True) and True"
      ],
      "execution_count": null,
      "outputs": [
        {
          "output_type": "execute_result",
          "data": {
            "text/plain": [
              "False"
            ]
          },
          "metadata": {
            "tags": []
          },
          "execution_count": 39
        }
      ]
    },
    {
      "cell_type": "markdown",
      "metadata": {
        "id": "kHvMDtDPneLU",
        "colab_type": "text"
      },
      "source": [
        "Change the string to make to boolean false"
      ]
    },
    {
      "cell_type": "code",
      "metadata": {
        "id": "MMAZXJTwnhG8",
        "colab_type": "code",
        "colab": {
          "base_uri": "https://localhost:8080/",
          "height": 34
        },
        "outputId": "8f9646dd-1c78-4352-e71a-df4001d979d7"
      },
      "source": [
        "bool('a short string')"
      ],
      "execution_count": null,
      "outputs": [
        {
          "output_type": "execute_result",
          "data": {
            "text/plain": [
              "True"
            ]
          },
          "metadata": {
            "tags": []
          },
          "execution_count": 40
        }
      ]
    },
    {
      "cell_type": "code",
      "metadata": {
        "id": "l2WsUWT2nnBr",
        "colab_type": "code",
        "colab": {
          "base_uri": "https://localhost:8080/",
          "height": 34
        },
        "outputId": "9296033c-049e-4a3f-c5f8-b0f0c736928e"
      },
      "source": [
        "bool('')"
      ],
      "execution_count": null,
      "outputs": [
        {
          "output_type": "execute_result",
          "data": {
            "text/plain": [
              "False"
            ]
          },
          "metadata": {
            "tags": []
          },
          "execution_count": 47
        }
      ]
    },
    {
      "cell_type": "markdown",
      "metadata": {
        "id": "8P_39_CZoJzk",
        "colab_type": "text"
      },
      "source": [
        "Find the sum, using a function of 4, 8, 38, -8, 9"
      ]
    },
    {
      "cell_type": "code",
      "metadata": {
        "id": "AbDQBt2ZoFj8",
        "colab_type": "code",
        "colab": {
          "base_uri": "https://localhost:8080/",
          "height": 34
        },
        "outputId": "c94e3fdd-f8bb-48f9-a87d-8b8d80f8663d"
      },
      "source": [
        "def num(p,q,r,s,t):\n",
        "  return p+q+r+s+t\n",
        "print(sum(4,8,38,-8,9))"
      ],
      "execution_count": null,
      "outputs": [
        {
          "output_type": "stream",
          "text": [
            "51\n"
          ],
          "name": "stdout"
        }
      ]
    },
    {
      "cell_type": "markdown",
      "metadata": {
        "id": "qmKkuLsyrley",
        "colab_type": "text"
      },
      "source": [
        "Determine the absolute value of 18-27 using a function"
      ]
    },
    {
      "cell_type": "code",
      "metadata": {
        "id": "Wfyf64SztLq9",
        "colab_type": "code",
        "colab": {
          "base_uri": "https://localhost:8080/",
          "height": 34
        },
        "outputId": "ee50dbd0-fa64-4c95-d746-60e629d95978"
      },
      "source": [
        "def abs(a):\n",
        "    return a\n",
        "print(sum(18-27))"
      ],
      "execution_count": null,
      "outputs": [
        {
          "output_type": "stream",
          "text": [
            "-9\n"
          ],
          "name": "stdout"
        }
      ]
    },
    {
      "cell_type": "markdown",
      "metadata": {
        "id": "KfQaIzFJtar5",
        "colab_type": "text"
      },
      "source": [
        "Find the minimum of 93, 27, 3.5, 19, 487 using a function (not predefined)"
      ]
    },
    {
      "cell_type": "code",
      "metadata": {
        "id": "jfS2aAizu2D-",
        "colab_type": "code",
        "colab": {
          "base_uri": "https://localhost:8080/",
          "height": 34
        },
        "outputId": "f2c3dfb2-a8bc-4853-d293-0f1792ccfaca"
      },
      "source": [
        "def minimum(a,b,c,d,e):\n",
        "    return min(a,b,c,d,e)\n",
        "minimum(93,27,3.5,19,487)"
      ],
      "execution_count": null,
      "outputs": [
        {
          "output_type": "execute_result",
          "data": {
            "text/plain": [
              "3.5"
            ]
          },
          "metadata": {
            "tags": []
          },
          "execution_count": 1
        }
      ]
    },
    {
      "cell_type": "markdown",
      "metadata": {
        "id": "RWV3as8Du9O-",
        "colab_type": "text"
      },
      "source": [
        "Find the maximum of 238, 382, 82, 2 using a function"
      ]
    },
    {
      "cell_type": "code",
      "metadata": {
        "id": "ILJf7KcZu-2m",
        "colab_type": "code",
        "colab": {
          "base_uri": "https://localhost:8080/",
          "height": 34
        },
        "outputId": "30c558a2-b68b-4814-ae89-d025e11df192"
      },
      "source": [
        "def maximum(a,b,c,d):\n",
        "    return max(a,b,c,d)\n",
        "maximum( 238, 382, 82, 2)"
      ],
      "execution_count": null,
      "outputs": [
        {
          "output_type": "execute_result",
          "data": {
            "text/plain": [
              "382"
            ]
          },
          "metadata": {
            "tags": []
          },
          "execution_count": 4
        }
      ]
    }
  ]
}