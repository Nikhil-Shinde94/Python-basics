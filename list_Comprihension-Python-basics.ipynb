{
  "nbformat": 4,
  "nbformat_minor": 0,
  "metadata": {
    "colab": {
      "name": "Assignment_list_Comprihension.ipynb",
      "provenance": [],
      "collapsed_sections": []
    },
    "kernelspec": {
      "name": "python3",
      "display_name": "Python 3"
    }
  },
  "cells": [
    {
      "cell_type": "code",
      "metadata": {
        "id": "VMBkfJrgutnB",
        "colab_type": "code",
        "colab": {
          "base_uri": "https://localhost:8080/",
          "height": 34
        },
        "outputId": "2c375264-bfff-4130-a9e2-bb094fc566c8"
      },
      "source": [
        "#Given a list of numbers, write a list comprehension that produces a copy of the list.\n",
        "\n",
        "input_list = [1,2,3,55,66,77]\n",
        "output_list = [elements for elements in input_list]\n",
        "print(output_list)"
      ],
      "execution_count": null,
      "outputs": [
        {
          "output_type": "stream",
          "text": [
            "[1, 2, 3, 55, 66, 77]\n"
          ],
          "name": "stdout"
        }
      ]
    },
    {
      "cell_type": "code",
      "metadata": {
        "id": "unIsnxqMwPYe",
        "colab_type": "code",
        "colab": {
          "base_uri": "https://localhost:8080/",
          "height": 34
        },
        "outputId": "2b26b9a5-1568-4078-dc91-d2dddcbccd4f"
      },
      "source": [
        "#Given a list of numbers, write a list comprehension that produces a list of square root of each number. \n",
        "import math\n",
        "\n",
        "input_list = [1,2,3,55,66,77]\n",
        "list_2 = [math.sqrt(elements) for elements in input_list]\n",
        "\n",
        "print(list_2)"
      ],
      "execution_count": null,
      "outputs": [
        {
          "output_type": "stream",
          "text": [
            "[1.0, 1.4142135623730951, 1.7320508075688772, 7.416198487095663, 8.12403840463596, 8.774964387392123]\n"
          ],
          "name": "stdout"
        }
      ]
    },
    {
      "cell_type": "code",
      "metadata": {
        "id": "f4EVfYUXyBmh",
        "colab_type": "code",
        "colab": {
          "base_uri": "https://localhost:8080/",
          "height": 34
        },
        "outputId": "c1bdbaba-60d5-486b-80f8-1b3c29a240fc"
      },
      "source": [
        "#Given a list of numbers, write a list comprehension that produces a list of the squares of each number.\n",
        "\n",
        "input_list = [1,2,3,55,66,77]\n",
        "list_3 = [elements**2 for elements in input_list]\n",
        "\n",
        "print(list_3)"
      ],
      "execution_count": null,
      "outputs": [
        {
          "output_type": "stream",
          "text": [
            "[1, 4, 9, 3025, 4356, 5929]\n"
          ],
          "name": "stdout"
        }
      ]
    },
    {
      "cell_type": "code",
      "metadata": {
        "id": "GzPD8ko8zLDm",
        "colab_type": "code",
        "colab": {
          "base_uri": "https://localhost:8080/",
          "height": 34
        },
        "outputId": "f38f028e-240d-45d7-9e49-6a243d5f41dc"
      },
      "source": [
        "#Given a list of numbers, write a list comprehension that produces a list of only the even numbers in that list.\n",
        "\n",
        "input_list = [10,20,35,55,66,77,100, 101, 108, 111]\n",
        "\n",
        "list_4 = [elements for elements in input_list if elements%2 == 0]\n",
        "\n",
        "print(list_4) # if elements%2 == 0 then even, else odd"
      ],
      "execution_count": null,
      "outputs": [
        {
          "output_type": "stream",
          "text": [
            "[10, 20, 66, 100, 108]\n"
          ],
          "name": "stdout"
        }
      ]
    },
    {
      "cell_type": "code",
      "metadata": {
        "id": "8gZLhZGmzkds",
        "colab_type": "code",
        "colab": {
          "base_uri": "https://localhost:8080/",
          "height": 34
        },
        "outputId": "3b5f2748-2c68-4a1b-978e-de633441540c"
      },
      "source": [
        "#Given a list of numbers, write a list comprehension that produces a list of only the odd numbers in that list. \n",
        "\n",
        "input_list = [10,20,35,55,66,77,100, 101, 108, 111]\n",
        "\n",
        "list_5 = [elements for elements in input_list if elements%2 == 1]\n",
        "\n",
        "print(list_5) # if elements%2 == 0 then even, else odd"
      ],
      "execution_count": null,
      "outputs": [
        {
          "output_type": "stream",
          "text": [
            "[35, 55, 77, 101, 111]\n"
          ],
          "name": "stdout"
        }
      ]
    },
    {
      "cell_type": "code",
      "metadata": {
        "id": "cf087dkU4Wta",
        "colab_type": "code",
        "colab": {
          "base_uri": "https://localhost:8080/",
          "height": 34
        },
        "outputId": "fe349c78-db45-4674-f9a4-25734bb71bb6"
      },
      "source": [
        "#Given a list of numbers, write a list comprehension that produces a list of only the positive numbers in that list.\n",
        "\n",
        "input_list = [10,20,35,55,66,77,100, 101, 108, 111, -45, -46, -9, -67]\n",
        "\n",
        "list_6 = [elements for elements in input_list if elements >= 0]\n",
        "\n",
        "print(list_6)"
      ],
      "execution_count": null,
      "outputs": [
        {
          "output_type": "stream",
          "text": [
            "[10, 20, 35, 55, 66, 77, 100, 101, 108, 111]\n"
          ],
          "name": "stdout"
        }
      ]
    },
    {
      "cell_type": "code",
      "metadata": {
        "id": "mUKgJywR456p",
        "colab_type": "code",
        "colab": {
          "base_uri": "https://localhost:8080/",
          "height": 34
        },
        "outputId": "6a823ab5-4952-44c2-81f1-0beea4561226"
      },
      "source": [
        "#Given a list of numbers, write a list comprehension that produces a list of strings of each number that is divisible by 5.\n",
        "\n",
        "input_list = [10,20,35,55,66,77,100, 101, 108, 111]\n",
        "\n",
        "list_7 = [str(elements) for elements in input_list if elements%5 == 0]\n",
        "\n",
        "print(list_7)"
      ],
      "execution_count": null,
      "outputs": [
        {
          "output_type": "stream",
          "text": [
            "['10', '20', '35', '55', '100']\n"
          ],
          "name": "stdout"
        }
      ]
    },
    {
      "cell_type": "code",
      "metadata": {
        "id": "9czxs6k85S20",
        "colab_type": "code",
        "colab": {
          "base_uri": "https://localhost:8080/",
          "height": 34
        },
        "outputId": "b5a4ad13-5af2-4395-97a6-eb68dadc417e"
      },
      "source": [
        "#Given a sentence, produce a list of the lengths of each word in the sentence, but only if the word is not 'the'.\n",
        "\n",
        "string_list = 'Given a sentence, produce a list of the lengths of each word in the sentence, but only if the word is not the'\n",
        "\n",
        "output = [len(elements) for elements in string_list.split() if elements != 'the']\n",
        "print(output)"
      ],
      "execution_count": null,
      "outputs": [
        {
          "output_type": "stream",
          "text": [
            "[5, 1, 9, 7, 1, 4, 2, 7, 2, 4, 4, 2, 9, 3, 4, 2, 4, 2, 3]\n"
          ],
          "name": "stdout"
        }
      ]
    },
    {
      "cell_type": "code",
      "metadata": {
        "id": "kl8x_fCj9orf",
        "colab_type": "code",
        "colab": {
          "base_uri": "https://localhost:8080/",
          "height": 34
        },
        "outputId": "7ff641e1-6ac5-4f90-f3b3-bfa72e0d9703"
      },
      "source": [
        "#Given a string representing a word, write a set comprehension that produces a set of all the vowels in that word.\n",
        "\n",
        "stringg = 'Nikhil Shinde'\n",
        "\n",
        "output = {elements for elements in stringg if elements in 'aeiou'}\n",
        "print(output)"
      ],
      "execution_count": null,
      "outputs": [
        {
          "output_type": "stream",
          "text": [
            "{'i', 'e'}\n"
          ],
          "name": "stdout"
        }
      ]
    },
    {
      "cell_type": "code",
      "metadata": {
        "id": "QiC57-2XD41u",
        "colab_type": "code",
        "colab": {
          "base_uri": "https://localhost:8080/",
          "height": 105
        },
        "outputId": "23fe1834-7a6f-4725-bf98-bb97996728cb"
      },
      "source": [
        "#Given a list of number, return the list with all even numbers doubled, and all odd numbers turned negative. \n",
        "\n",
        "input_list = [10,20,35,55,66,77,100, 101, 108, 111]\n",
        "\n",
        "even = [elements**2 for elements in input_list if elements%2 == 0]\n",
        "print(\"Even number gets doubled\")\n",
        "print(even, \"\\n\")\n",
        "\n",
        "odd = [-elements for elements in input_list if elements%2 == 1]\n",
        "print(\"odd elements turned negative\")\n",
        "print(odd)"
      ],
      "execution_count": null,
      "outputs": [
        {
          "output_type": "stream",
          "text": [
            "Even number gets doubled\n",
            "[100, 400, 4356, 10000, 11664] \n",
            "\n",
            "odd elements turned negative\n",
            "[-35, -55, -77, -101, -111]\n"
          ],
          "name": "stdout"
        }
      ]
    },
    {
      "cell_type": "code",
      "metadata": {
        "id": "dhcNWXisZLGW",
        "colab_type": "code",
        "colab": {
          "base_uri": "https://localhost:8080/",
          "height": 292
        },
        "outputId": "179ec51c-ba32-464d-f949-d1afcaef467c"
      },
      "source": [
        "#Given a sentence, return the setence will all it's letter transposed by 1 in the alphabet, but only if the letter is a-y. \n",
        "\n",
        "stringnew = \"encrypt_lol('the quick brown fox jumps over the lazy dog') 'uif rvjdl cspxo gpy kvnqt pwfs uif mbzy eph'\"\n",
        "\n",
        "output = [elements.transposed(1) for elements in stringnew if elements == 'a' and 'y']"
      ],
      "execution_count": null,
      "outputs": [
        {
          "output_type": "error",
          "ename": "AttributeError",
          "evalue": "ignored",
          "traceback": [
            "\u001b[0;31m---------------------------------------------------------------------------\u001b[0m",
            "\u001b[0;31mAttributeError\u001b[0m                            Traceback (most recent call last)",
            "\u001b[0;32m<ipython-input-84-f2a5a6916443>\u001b[0m in \u001b[0;36m<module>\u001b[0;34m()\u001b[0m\n\u001b[1;32m      3\u001b[0m \u001b[0mstringnew\u001b[0m \u001b[0;34m=\u001b[0m \u001b[0;34m\"encrypt_lol('the quick brown fox jumps over the lazy dog') 'uif rvjdl cspxo gpy kvnqt pwfs uif mbzy eph'\"\u001b[0m\u001b[0;34m\u001b[0m\u001b[0;34m\u001b[0m\u001b[0m\n\u001b[1;32m      4\u001b[0m \u001b[0;34m\u001b[0m\u001b[0m\n\u001b[0;32m----> 5\u001b[0;31m \u001b[0moutput\u001b[0m \u001b[0;34m=\u001b[0m \u001b[0;34m[\u001b[0m\u001b[0melements\u001b[0m\u001b[0;34m.\u001b[0m\u001b[0mtransposed\u001b[0m\u001b[0;34m(\u001b[0m\u001b[0;36m1\u001b[0m\u001b[0;34m)\u001b[0m \u001b[0;32mfor\u001b[0m \u001b[0melements\u001b[0m \u001b[0;32min\u001b[0m \u001b[0mstringnew\u001b[0m \u001b[0;32mif\u001b[0m \u001b[0melements\u001b[0m \u001b[0;34m==\u001b[0m \u001b[0;34m'a'\u001b[0m \u001b[0;32mand\u001b[0m \u001b[0;34m'y'\u001b[0m\u001b[0;34m]\u001b[0m\u001b[0;34m\u001b[0m\u001b[0;34m\u001b[0m\u001b[0m\n\u001b[0m",
            "\u001b[0;32m<ipython-input-84-f2a5a6916443>\u001b[0m in \u001b[0;36m<listcomp>\u001b[0;34m(.0)\u001b[0m\n\u001b[1;32m      3\u001b[0m \u001b[0mstringnew\u001b[0m \u001b[0;34m=\u001b[0m \u001b[0;34m\"encrypt_lol('the quick brown fox jumps over the lazy dog') 'uif rvjdl cspxo gpy kvnqt pwfs uif mbzy eph'\"\u001b[0m\u001b[0;34m\u001b[0m\u001b[0;34m\u001b[0m\u001b[0m\n\u001b[1;32m      4\u001b[0m \u001b[0;34m\u001b[0m\u001b[0m\n\u001b[0;32m----> 5\u001b[0;31m \u001b[0moutput\u001b[0m \u001b[0;34m=\u001b[0m \u001b[0;34m[\u001b[0m\u001b[0melements\u001b[0m\u001b[0;34m.\u001b[0m\u001b[0mtransposed\u001b[0m\u001b[0;34m(\u001b[0m\u001b[0;36m1\u001b[0m\u001b[0;34m)\u001b[0m \u001b[0;32mfor\u001b[0m \u001b[0melements\u001b[0m \u001b[0;32min\u001b[0m \u001b[0mstringnew\u001b[0m \u001b[0;32mif\u001b[0m \u001b[0melements\u001b[0m \u001b[0;34m==\u001b[0m \u001b[0;34m'a'\u001b[0m \u001b[0;32mand\u001b[0m \u001b[0;34m'y'\u001b[0m\u001b[0;34m]\u001b[0m\u001b[0;34m\u001b[0m\u001b[0;34m\u001b[0m\u001b[0m\n\u001b[0m",
            "\u001b[0;31mAttributeError\u001b[0m: 'str' object has no attribute 'transposed'"
          ]
        }
      ]
    },
    {
      "cell_type": "code",
      "metadata": {
        "id": "sjmi6UgfZ7YU",
        "colab_type": "code",
        "colab": {
          "base_uri": "https://localhost:8080/",
          "height": 54
        },
        "outputId": "9d80cc3f-2a71-43ac-e4ca-e7ba4993eb1c"
      },
      "source": [
        "#Find all of the numbers from 1-1000 that are divisible by 7\n",
        "\n",
        "listone = [elements for elements in range(1,1000) if elements % 7 == 0]\n",
        "print(listone)"
      ],
      "execution_count": null,
      "outputs": [
        {
          "output_type": "stream",
          "text": [
            "[7, 14, 21, 28, 35, 42, 49, 56, 63, 70, 77, 84, 91, 98, 105, 112, 119, 126, 133, 140, 147, 154, 161, 168, 175, 182, 189, 196, 203, 210, 217, 224, 231, 238, 245, 252, 259, 266, 273, 280, 287, 294, 301, 308, 315, 322, 329, 336, 343, 350, 357, 364, 371, 378, 385, 392, 399, 406, 413, 420, 427, 434, 441, 448, 455, 462, 469, 476, 483, 490, 497, 504, 511, 518, 525, 532, 539, 546, 553, 560, 567, 574, 581, 588, 595, 602, 609, 616, 623, 630, 637, 644, 651, 658, 665, 672, 679, 686, 693, 700, 707, 714, 721, 728, 735, 742, 749, 756, 763, 770, 777, 784, 791, 798, 805, 812, 819, 826, 833, 840, 847, 854, 861, 868, 875, 882, 889, 896, 903, 910, 917, 924, 931, 938, 945, 952, 959, 966, 973, 980, 987, 994]\n"
          ],
          "name": "stdout"
        }
      ]
    },
    {
      "cell_type": "code",
      "metadata": {
        "id": "Xmm45tPYcF5i",
        "colab_type": "code",
        "colab": {
          "base_uri": "https://localhost:8080/",
          "height": 327
        },
        "outputId": "49f1ec2b-7781-4abc-889f-f225ae5ac952"
      },
      "source": [
        "#Find all of the numbers from 1-1000 that have a 3 in them\n",
        "\n",
        "list_two = [elements for elements in range(1,1000) if elements == 3 ]\n",
        "print(list_two)"
      ],
      "execution_count": null,
      "outputs": [
        {
          "output_type": "error",
          "ename": "NameError",
          "evalue": "ignored",
          "traceback": [
            "\u001b[0;31m---------------------------------------------------------------------------\u001b[0m",
            "\u001b[0;31mNameError\u001b[0m                                 Traceback (most recent call last)",
            "\u001b[0;32m<ipython-input-77-1253d96a9d3f>\u001b[0m in \u001b[0;36m<module>\u001b[0;34m()\u001b[0m\n\u001b[1;32m      1\u001b[0m \u001b[0;31m#Find all of the numbers from 1-1000 that have a 3 in them\u001b[0m\u001b[0;34m\u001b[0m\u001b[0;34m\u001b[0m\u001b[0;34m\u001b[0m\u001b[0m\n\u001b[1;32m      2\u001b[0m \u001b[0;34m\u001b[0m\u001b[0m\n\u001b[0;32m----> 3\u001b[0;31m \u001b[0mlist_two\u001b[0m \u001b[0;34m=\u001b[0m \u001b[0;34m[\u001b[0m\u001b[0melements\u001b[0m \u001b[0;32mfor\u001b[0m \u001b[0melements\u001b[0m \u001b[0;32min\u001b[0m \u001b[0mrange\u001b[0m\u001b[0;34m(\u001b[0m\u001b[0;36m1\u001b[0m\u001b[0;34m,\u001b[0m\u001b[0;36m1000\u001b[0m\u001b[0;34m)\u001b[0m \u001b[0;32mif\u001b[0m \u001b[0melements\u001b[0m \u001b[0;34m==\u001b[0m \u001b[0;36m3\u001b[0m \u001b[0;32mor\u001b[0m \u001b[0misDigitPresent\u001b[0m\u001b[0;34m]\u001b[0m\u001b[0;34m\u001b[0m\u001b[0;34m\u001b[0m\u001b[0m\n\u001b[0m\u001b[1;32m      4\u001b[0m \u001b[0mprint\u001b[0m\u001b[0;34m(\u001b[0m\u001b[0mlist_two\u001b[0m\u001b[0;34m)\u001b[0m\u001b[0;34m\u001b[0m\u001b[0;34m\u001b[0m\u001b[0m\n",
            "\u001b[0;32m<ipython-input-77-1253d96a9d3f>\u001b[0m in \u001b[0;36m<listcomp>\u001b[0;34m(.0)\u001b[0m\n\u001b[1;32m      1\u001b[0m \u001b[0;31m#Find all of the numbers from 1-1000 that have a 3 in them\u001b[0m\u001b[0;34m\u001b[0m\u001b[0;34m\u001b[0m\u001b[0;34m\u001b[0m\u001b[0m\n\u001b[1;32m      2\u001b[0m \u001b[0;34m\u001b[0m\u001b[0m\n\u001b[0;32m----> 3\u001b[0;31m \u001b[0mlist_two\u001b[0m \u001b[0;34m=\u001b[0m \u001b[0;34m[\u001b[0m\u001b[0melements\u001b[0m \u001b[0;32mfor\u001b[0m \u001b[0melements\u001b[0m \u001b[0;32min\u001b[0m \u001b[0mrange\u001b[0m\u001b[0;34m(\u001b[0m\u001b[0;36m1\u001b[0m\u001b[0;34m,\u001b[0m\u001b[0;36m1000\u001b[0m\u001b[0;34m)\u001b[0m \u001b[0;32mif\u001b[0m \u001b[0melements\u001b[0m \u001b[0;34m==\u001b[0m \u001b[0;36m3\u001b[0m \u001b[0;32mor\u001b[0m \u001b[0misDigitPresent\u001b[0m\u001b[0;34m]\u001b[0m\u001b[0;34m\u001b[0m\u001b[0;34m\u001b[0m\u001b[0m\n\u001b[0m\u001b[1;32m      4\u001b[0m \u001b[0mprint\u001b[0m\u001b[0;34m(\u001b[0m\u001b[0mlist_two\u001b[0m\u001b[0;34m)\u001b[0m\u001b[0;34m\u001b[0m\u001b[0;34m\u001b[0m\u001b[0m\n",
            "\u001b[0;31mNameError\u001b[0m: name 'isDigitPresent' is not defined"
          ]
        }
      ]
    },
    {
      "cell_type": "code",
      "metadata": {
        "id": "xG3MY8Kccaar",
        "colab_type": "code",
        "colab": {
          "base_uri": "https://localhost:8080/",
          "height": 34
        },
        "outputId": "bea5180b-827b-4da4-878d-a69cbca8a691"
      },
      "source": [
        "#Count the number of spaces in a string\n",
        "\n",
        "stringnew2 = \"encrypt_lol('the quick brown fox jumps over the lazy dog') 'uif rvjdl cspxo gpy kvnqt pwfs uif mbzy eph'\"\n",
        "\n",
        "output33 = [sum(elements.count(' ') for elements in stringnew2)]\n",
        "print(output33)"
      ],
      "execution_count": null,
      "outputs": [
        {
          "output_type": "stream",
          "text": [
            "[17]\n"
          ],
          "name": "stdout"
        }
      ]
    },
    {
      "cell_type": "code",
      "metadata": {
        "id": "-wSEh7Nefets",
        "colab_type": "code",
        "colab": {
          "base_uri": "https://localhost:8080/",
          "height": 54
        },
        "outputId": "64118707-a3a0-44de-d3b9-d02123875f84"
      },
      "source": [
        "#Remove all of the vowels in a string [make a list of the non-vowels] \n",
        "\n",
        "stringvow = 'Remove all of the vowels in a string make a list of the non-vowels'\n",
        "aa = ['a','e','i','o','u']\n",
        "outputvow = [elements for elements in stringvow if elements not in aa]\n",
        "print(outputvow)"
      ],
      "execution_count": null,
      "outputs": [
        {
          "output_type": "stream",
          "text": [
            "['R', 'm', 'v', ' ', 'l', 'l', ' ', 'f', ' ', 't', 'h', ' ', 'v', 'w', 'l', 's', ' ', 'n', ' ', ' ', 's', 't', 'r', 'n', 'g', ' ', 'm', 'k', ' ', ' ', 'l', 's', 't', ' ', 'f', ' ', 't', 'h', ' ', 'n', 'n', '-', 'v', 'w', 'l', 's']\n"
          ],
          "name": "stdout"
        }
      ]
    },
    {
      "cell_type": "code",
      "metadata": {
        "id": "GDDzdA0pj-bA",
        "colab_type": "code",
        "colab": {
          "base_uri": "https://localhost:8080/",
          "height": 34
        },
        "outputId": "915ef071-914a-4854-9863-64b70f6f09fb"
      },
      "source": [
        "#Find all of the words in a string that are less than 4 letters\n",
        "\n",
        "string_123 = 'Remove all of the vowels in a string make a list of the non-vowels'\n",
        "stringneww = string_123.split()\n",
        "letters = [elements for elements in stringneww if len(elements) < 4]\n",
        "print(letters)"
      ],
      "execution_count": null,
      "outputs": [
        {
          "output_type": "stream",
          "text": [
            "['all', 'of', 'the', 'in', 'a', 'a', 'of', 'the']\n"
          ],
          "name": "stdout"
        }
      ]
    },
    {
      "cell_type": "code",
      "metadata": {
        "id": "1kk-6FHya6vf",
        "colab_type": "code",
        "colab": {
          "base_uri": "https://localhost:8080/",
          "height": 34
        },
        "outputId": "88a1a04c-c193-4c74-c22c-2c272d5915bd"
      },
      "source": [
        "#Use a dictionary comprehension to count the length of each word in a sentence.\n",
        "\n",
        "string_dict = 'Use a dictionary comprehension to count the length of each word in a sentence'\n",
        "string_dict2 = string_dict.split()\n",
        "dict_count = {C:len(C) for C in string_dict2}\n",
        "\n",
        "print(dict_count)"
      ],
      "execution_count": null,
      "outputs": [
        {
          "output_type": "stream",
          "text": [
            "{'Use': 3, 'a': 1, 'dictionary': 10, 'comprehension': 13, 'to': 2, 'count': 5, 'the': 3, 'length': 6, 'of': 2, 'each': 4, 'word': 4, 'in': 2, 'sentence': 8}\n"
          ],
          "name": "stdout"
        }
      ]
    },
    {
      "cell_type": "code",
      "metadata": {
        "id": "hlLk2ZgRfn0D",
        "colab_type": "code",
        "colab": {
          "base_uri": "https://localhost:8080/",
          "height": 54
        },
        "outputId": "4462cca2-0ceb-465e-8f00-d6da93144f81"
      },
      "source": [
        "#Use a nested list comprehension to find all of the numbers from 1-1000 that are divisible by any single digit besides 1 (2-9) \n",
        "# comprehension testing truth for divisibilty: [True for divisor in range(2,10) if number % divisor == 0] \n",
        "\n",
        "nested_list = [elements for elements in range(1,1000) for divisor in range(2,9) if elements % divisor == 0]\n",
        "print(nested_list)"
      ],
      "execution_count": null,
      "outputs": [
        {
          "output_type": "stream",
          "text": [
            "[2, 3, 4, 4, 5, 6, 6, 6, 7, 8, 8, 8, 9, 10, 10, 12, 12, 12, 12, 14, 14, 15, 15, 16, 16, 16, 18, 18, 18, 20, 20, 20, 21, 21, 22, 24, 24, 24, 24, 24, 25, 26, 27, 28, 28, 28, 30, 30, 30, 30, 32, 32, 32, 33, 34, 35, 35, 36, 36, 36, 36, 38, 39, 40, 40, 40, 40, 42, 42, 42, 42, 44, 44, 45, 45, 46, 48, 48, 48, 48, 48, 49, 50, 50, 51, 52, 52, 54, 54, 54, 55, 56, 56, 56, 56, 57, 58, 60, 60, 60, 60, 60, 62, 63, 63, 64, 64, 64, 65, 66, 66, 66, 68, 68, 69, 70, 70, 70, 72, 72, 72, 72, 72, 74, 75, 75, 76, 76, 77, 78, 78, 78, 80, 80, 80, 80, 81, 82, 84, 84, 84, 84, 84, 85, 86, 87, 88, 88, 88, 90, 90, 90, 90, 91, 92, 92, 93, 94, 95, 96, 96, 96, 96, 96, 98, 98, 99, 100, 100, 100, 102, 102, 102, 104, 104, 104, 105, 105, 105, 106, 108, 108, 108, 108, 110, 110, 111, 112, 112, 112, 112, 114, 114, 114, 115, 116, 116, 117, 118, 119, 120, 120, 120, 120, 120, 120, 122, 123, 124, 124, 125, 126, 126, 126, 126, 128, 128, 128, 129, 130, 130, 132, 132, 132, 132, 133, 134, 135, 135, 136, 136, 136, 138, 138, 138, 140, 140, 140, 140, 141, 142, 144, 144, 144, 144, 144, 145, 146, 147, 147, 148, 148, 150, 150, 150, 150, 152, 152, 152, 153, 154, 154, 155, 156, 156, 156, 156, 158, 159, 160, 160, 160, 160, 161, 162, 162, 162, 164, 164, 165, 165, 166, 168, 168, 168, 168, 168, 168, 170, 170, 171, 172, 172, 174, 174, 174, 175, 175, 176, 176, 176, 177, 178, 180, 180, 180, 180, 180, 182, 182, 183, 184, 184, 184, 185, 186, 186, 186, 188, 188, 189, 189, 190, 190, 192, 192, 192, 192, 192, 194, 195, 195, 196, 196, 196, 198, 198, 198, 200, 200, 200, 200, 201, 202, 203, 204, 204, 204, 204, 205, 206, 207, 208, 208, 208, 210, 210, 210, 210, 210, 212, 212, 213, 214, 215, 216, 216, 216, 216, 216, 217, 218, 219, 220, 220, 220, 222, 222, 222, 224, 224, 224, 224, 225, 225, 226, 228, 228, 228, 228, 230, 230, 231, 231, 232, 232, 232, 234, 234, 234, 235, 236, 236, 237, 238, 238, 240, 240, 240, 240, 240, 240, 242, 243, 244, 244, 245, 245, 246, 246, 246, 248, 248, 248, 249, 250, 250, 252, 252, 252, 252, 252, 254, 255, 255, 256, 256, 256, 258, 258, 258, 259, 260, 260, 260, 261, 262, 264, 264, 264, 264, 264, 265, 266, 266, 267, 268, 268, 270, 270, 270, 270, 272, 272, 272, 273, 273, 274, 275, 276, 276, 276, 276, 278, 279, 280, 280, 280, 280, 280, 282, 282, 282, 284, 284, 285, 285, 286, 287, 288, 288, 288, 288, 288, 290, 290, 291, 292, 292, 294, 294, 294, 294, 295, 296, 296, 296, 297, 298, 300, 300, 300, 300, 300, 301, 302, 303, 304, 304, 304, 305, 306, 306, 306, 308, 308, 308, 309, 310, 310, 312, 312, 312, 312, 312, 314, 315, 315, 315, 316, 316, 318, 318, 318, 320, 320, 320, 320, 321, 322, 322, 324, 324, 324, 324, 325, 326, 327, 328, 328, 328, 329, 330, 330, 330, 330, 332, 332, 333, 334, 335, 336, 336, 336, 336, 336, 336, 338, 339, 340, 340, 340, 342, 342, 342, 343, 344, 344, 344, 345, 345, 346, 348, 348, 348, 348, 350, 350, 350, 351, 352, 352, 352, 354, 354, 354, 355, 356, 356, 357, 357, 358, 360, 360, 360, 360, 360, 360, 362, 363, 364, 364, 364, 365, 366, 366, 366, 368, 368, 368, 369, 370, 370, 371, 372, 372, 372, 372, 374, 375, 375, 376, 376, 376, 378, 378, 378, 378, 380, 380, 380, 381, 382, 384, 384, 384, 384, 384, 385, 385, 386, 387, 388, 388, 390, 390, 390, 390, 392, 392, 392, 392, 393, 394, 395, 396, 396, 396, 396, 398, 399, 399, 400, 400, 400, 400, 402, 402, 402, 404, 404, 405, 405, 406, 406, 408, 408, 408, 408, 408, 410, 410, 411, 412, 412, 413, 414, 414, 414, 415, 416, 416, 416, 417, 418, 420, 420, 420, 420, 420, 420, 422, 423, 424, 424, 424, 425, 426, 426, 426, 427, 428, 428, 429, 430, 430, 432, 432, 432, 432, 432, 434, 434, 435, 435, 436, 436, 438, 438, 438, 440, 440, 440, 440, 441, 441, 442, 444, 444, 444, 444, 445, 446, 447, 448, 448, 448, 448, 450, 450, 450, 450, 452, 452, 453, 454, 455, 455, 456, 456, 456, 456, 456, 458, 459, 460, 460, 460, 462, 462, 462, 462, 464, 464, 464, 465, 465, 466, 468, 468, 468, 468, 469, 470, 470, 471, 472, 472, 472, 474, 474, 474, 475, 476, 476, 476, 477, 478, 480, 480, 480, 480, 480, 480, 482, 483, 483, 484, 484, 485, 486, 486, 486, 488, 488, 488, 489, 490, 490, 490, 492, 492, 492, 492, 494, 495, 495, 496, 496, 496, 497, 498, 498, 498, 500, 500, 500, 501, 502, 504, 504, 504, 504, 504, 504, 505, 506, 507, 508, 508, 510, 510, 510, 510, 511, 512, 512, 512, 513, 514, 515, 516, 516, 516, 516, 518, 518, 519, 520, 520, 520, 520, 522, 522, 522, 524, 524, 525, 525, 525, 526, 528, 528, 528, 528, 528, 530, 530, 531, 532, 532, 532, 534, 534, 534, 535, 536, 536, 536, 537, 538, 539, 540, 540, 540, 540, 540, 542, 543, 544, 544, 544, 545, 546, 546, 546, 546, 548, 548, 549, 550, 550, 552, 552, 552, 552, 552, 553, 554, 555, 555, 556, 556, 558, 558, 558, 560, 560, 560, 560, 560, 561, 562, 564, 564, 564, 564, 565, 566, 567, 567, 568, 568, 568, 570, 570, 570, 570, 572, 572, 573, 574, 574, 575, 576, 576, 576, 576, 576, 578, 579, 580, 580, 580, 581, 582, 582, 582, 584, 584, 584, 585, 585, 586, 588, 588, 588, 588, 588, 590, 590, 591, 592, 592, 592, 594, 594, 594, 595, 595, 596, 596, 597, 598, 600, 600, 600, 600, 600, 600, 602, 602, 603, 604, 604, 605, 606, 606, 606, 608, 608, 608, 609, 609, 610, 610, 612, 612, 612, 612, 614, 615, 615, 616, 616, 616, 616, 618, 618, 618, 620, 620, 620, 621, 622, 623, 624, 624, 624, 624, 624, 625, 626, 627, 628, 628, 630, 630, 630, 630, 630, 632, 632, 632, 633, 634, 635, 636, 636, 636, 636, 637, 638, 639, 640, 640, 640, 640, 642, 642, 642, 644, 644, 644, 645, 645, 646, 648, 648, 648, 648, 648, 650, 650, 651, 651, 652, 652, 654, 654, 654, 655, 656, 656, 656, 657, 658, 658, 660, 660, 660, 660, 660, 662, 663, 664, 664, 664, 665, 665, 666, 666, 666, 668, 668, 669, 670, 670, 672, 672, 672, 672, 672, 672, 674, 675, 675, 676, 676, 678, 678, 678, 679, 680, 680, 680, 680, 681, 682, 684, 684, 684, 684, 685, 686, 686, 687, 688, 688, 688, 690, 690, 690, 690, 692, 692, 693, 693, 694, 695, 696, 696, 696, 696, 696, 698, 699, 700, 700, 700, 700, 702, 702, 702, 704, 704, 704, 705, 705, 706, 707, 708, 708, 708, 708, 710, 710, 711, 712, 712, 712, 714, 714, 714, 714, 715, 716, 716, 717, 718, 720, 720, 720, 720, 720, 720, 721, 722, 723, 724, 724, 725, 726, 726, 726, 728, 728, 728, 728, 729, 730, 730, 732, 732, 732, 732, 734, 735, 735, 735, 736, 736, 736, 738, 738, 738, 740, 740, 740, 741, 742, 742, 744, 744, 744, 744, 744, 745, 746, 747, 748, 748, 749, 750, 750, 750, 750, 752, 752, 752, 753, 754, 755, 756, 756, 756, 756, 756, 758, 759, 760, 760, 760, 760, 762, 762, 762, 763, 764, 764, 765, 765, 766, 768, 768, 768, 768, 768, 770, 770, 770, 771, 772, 772, 774, 774, 774, 775, 776, 776, 776, 777, 777, 778, 780, 780, 780, 780, 780, 782, 783, 784, 784, 784, 784, 785, 786, 786, 786, 788, 788, 789, 790, 790, 791, 792, 792, 792, 792, 792, 794, 795, 795, 796, 796, 798, 798, 798, 798, 800, 800, 800, 800, 801, 802, 804, 804, 804, 804, 805, 805, 806, 807, 808, 808, 808, 810, 810, 810, 810, 812, 812, 812, 813, 814, 815, 816, 816, 816, 816, 816, 818, 819, 819, 820, 820, 820, 822, 822, 822, 824, 824, 824, 825, 825, 826, 826, 828, 828, 828, 828, 830, 830, 831, 832, 832, 832, 833, 834, 834, 834, 835, 836, 836, 837, 838, 840, 840, 840, 840, 840, 840, 840, 842, 843, 844, 844, 845, 846, 846, 846, 847, 848, 848, 848, 849, 850, 850, 852, 852, 852, 852, 854, 854, 855, 855, 856, 856, 856, 858, 858, 858, 860, 860, 860, 861, 861, 862, 864, 864, 864, 864, 864, 865, 866, 867, 868, 868, 868, 870, 870, 870, 870, 872, 872, 872, 873, 874, 875, 875, 876, 876, 876, 876, 878, 879, 880, 880, 880, 880, 882, 882, 882, 882, 884, 884, 885, 885, 886, 888, 888, 888, 888, 888, 889, 890, 890, 891, 892, 892, 894, 894, 894, 895, 896, 896, 896, 896, 897, 898, 900, 900, 900, 900, 900, 902, 903, 903, 904, 904, 904, 905, 906, 906, 906, 908, 908, 909, 910, 910, 910, 912, 912, 912, 912, 912, 914, 915, 915, 916, 916, 917, 918, 918, 918, 920, 920, 920, 920, 921, 922, 924, 924, 924, 924, 924, 925, 926, 927, 928, 928, 928, 930, 930, 930, 930, 931, 932, 932, 933, 934, 935, 936, 936, 936, 936, 936, 938, 938, 939, 940, 940, 940, 942, 942, 942, 944, 944, 944, 945, 945, 945, 946, 948, 948, 948, 948, 950, 950, 951, 952, 952, 952, 952, 954, 954, 954, 955, 956, 956, 957, 958, 959, 960, 960, 960, 960, 960, 960, 962, 963, 964, 964, 965, 966, 966, 966, 966, 968, 968, 968, 969, 970, 970, 972, 972, 972, 972, 973, 974, 975, 975, 976, 976, 976, 978, 978, 978, 980, 980, 980, 980, 981, 982, 984, 984, 984, 984, 984, 985, 986, 987, 987, 988, 988, 990, 990, 990, 990, 992, 992, 992, 993, 994, 994, 995, 996, 996, 996, 996, 998, 999]\n"
          ],
          "name": "stdout"
        }
      ]
    },
    {
      "cell_type": "code",
      "metadata": {
        "id": "tJsUsQe7lJJZ",
        "colab_type": "code",
        "colab": {
          "base_uri": "https://localhost:8080/",
          "height": 34
        },
        "outputId": "effe02ea-7418-475b-8546-01c785f4b7b4"
      },
      "source": [
        "#For all the numbers 1-1000, use a nested list/dictionary comprehension to find the highest single digit any of the numbers is divisible by. \n",
        "# List comprehension for providing a list of all of the numbers a number is divisible by: divisor_list: # [divisor for divisor in range(1,1001) if number % divisor == 0] \n",
        "\n",
        "results = [max([divisor for divisor in range(1,1001) if number % divisor == 0]) for number in range(2,20) ]\n",
        "results"
      ],
      "execution_count": null,
      "outputs": [
        {
          "output_type": "execute_result",
          "data": {
            "text/plain": [
              "[2, 3, 4, 5, 6, 7, 8, 9, 10, 11, 12, 13, 14, 15, 16, 17, 18, 19]"
            ]
          },
          "metadata": {
            "tags": []
          },
          "execution_count": 32
        }
      ]
    }
  ]
}